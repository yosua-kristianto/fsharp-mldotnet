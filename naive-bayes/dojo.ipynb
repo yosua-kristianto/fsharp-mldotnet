{
 "cells": [
  {
   "cell_type": "code",
   "execution_count": 154,
   "metadata": {},
   "outputs": [],
   "source": [
    "import pandas;\n",
    "\n",
    "# Search for rainy, hot, high, true \n",
    "# ans yes"
   ]
  },
  {
   "cell_type": "code",
   "execution_count": 155,
   "metadata": {},
   "outputs": [],
   "source": [
    "\"\"\"\n",
    "```csv\n",
    "outlook,temperature,humidity,windy,play\n",
    "sunny,hot,high,zero,no\n",
    "sunny,hot,high,one,no\n",
    "cloudy,hot,high,zero,yes\n",
    "rainy,mild,high,zero,yes\n",
    "rainy,cool,normal,zero,yes\n",
    "rainy,cool,normal,one,yes\n",
    "cloudy,cool,normal,one,yes\n",
    "sunny,mild,high,zero,no\n",
    "sunny,cool,normal,zero,yes\n",
    "rainy,mild,normal,zero,yes\n",
    "sunny,mild,normal,one,yes\n",
    "cloudy,mild,high,one,yes\n",
    "cloudy,hot,normal,zero,yes\n",
    "rainy,mild,high,one,no\n",
    "```\n",
    "\"\"\"\n",
    "\n",
    "data_frame = pandas.read_csv(\"data.csv\");\n"
   ]
  },
  {
   "cell_type": "code",
   "execution_count": 156,
   "metadata": {},
   "outputs": [
    {
     "name": "stdout",
     "output_type": "stream",
     "text": [
      "P(yes):  0.7142857142857143\n",
      "P(no):  0.2857142857142857\n",
      "(yes):  10\n",
      "(no):  4\n"
     ]
    }
   ],
   "source": [
    "# Count global probability\n",
    "\n",
    "p_of_yes = float(len(data_frame[data_frame[\"play\"] == \"yes\"]) / data_frame[\"play\"].count());\n",
    "p_of_no = float(len(data_frame[data_frame[\"play\"] == \"no\"]) / data_frame[\"play\"].count());\n",
    "\n",
    "len_yes = len(data_frame[data_frame[\"play\"] == \"yes\"]);\n",
    "len_no = len(data_frame[data_frame[\"play\"] == \"no\"])\n",
    "\n",
    "print(\"P(yes): \", p_of_yes);\n",
    "print(\"P(no): \", p_of_no);\n",
    "\n",
    "print(\"(yes): \", len_yes);\n",
    "print(\"(no): \", len_no);"
   ]
  },
  {
   "cell_type": "code",
   "execution_count": 157,
   "metadata": {},
   "outputs": [
    {
     "name": "stdout",
     "output_type": "stream",
     "text": [
      "0.4 0.4 0.7 0.6\n",
      "1.25 1.0 1.75 1.5\n",
      "4\n"
     ]
    }
   ],
   "source": [
    "# Count every probs\n",
    "data_play_yes = data_frame[\"play\"] == \"yes\";\n",
    "data_play_no = data_frame[\"play\"] == \"no\";\n",
    "\n",
    "p_of_yes_rainy = float (len(data_frame[(data_frame[\"outlook\"] == \"rainy\") & (data_frame[\"play\"] == \"yes\")])) / len_yes;\n",
    "p_of_no_rainy = float(len(data_frame[(data_frame[\"outlook\"] == \"rainy\") & (data_frame[\"play\"] == \"no\")])) / len_no;\n",
    "\n",
    "p_of_yes_hot = float(len(data_frame[(data_frame[\"temperature\"] == \"hot\") & (data_frame[\"play\"] == \"yes\")])) / len_yes;\n",
    "p_of_no_hot = float(len(data_frame[(data_frame[\"temperature\"] == \"hot\")  & (data_frame[\"play\"] == \"no\")])) / len_no;\n",
    "\n",
    "p_of_yes_humidity = float(len(data_frame[(data_frame[\"humidity\"] == \"high\") & (data_frame[\"play\"] == \"yes\")])) / len_yes;\n",
    "p_of_no_humidity = float(len(data_frame[(data_frame[\"humidity\"] == \"high\") & (data_frame[\"play\"] == \"no\")])) / len_no;\n",
    "\n",
    "p_of_yes_windy = float(len(data_frame[(data_frame[\"windy\"] == \"one\") & (data_frame[\"play\"] == \"yes\")])) / len_yes;\n",
    "p_of_no_windy = float(len(data_frame[(data_frame[\"windy\"] == \"one\") & (data_frame[\"play\"] == \"no\")])) / len_no;\n",
    "\n",
    "print(p_of_yes_rainy, p_of_yes_hot, p_of_yes_humidity, p_of_yes_windy);\n",
    "print(p_of_no_rainy, p_of_no_hot, p_of_no_humidity, p_of_no_windy);\n",
    "\n",
    "print(len(data_frame[data_frame[\"temperature\"] == \"hot\"]))\n"
   ]
  },
  {
   "cell_type": "code",
   "execution_count": 158,
   "metadata": {},
   "outputs": [
    {
     "name": "stdout",
     "output_type": "stream",
     "text": [
      "0.06720000000000001 3.28125\n"
     ]
    }
   ],
   "source": [
    "p_all_yes = (float) (p_of_yes_rainy * p_of_yes_hot * p_of_yes_humidity * p_of_yes_windy);\n",
    "p_all_no = (float) (p_of_no_rainy * p_of_no_hot * p_of_no_humidity * p_of_no_windy);\n",
    "\n",
    "print(p_all_yes, p_all_no);"
   ]
  },
  {
   "cell_type": "code",
   "execution_count": 159,
   "metadata": {},
   "outputs": [
    {
     "name": "stdout",
     "output_type": "stream",
     "text": [
      "Prob yes 0.04800000000000001\n",
      "Prob no 0.9375\n"
     ]
    }
   ],
   "source": [
    "print(\"Prob yes\", p_all_yes * p_of_yes);\n",
    "print(\"Prob no\", p_all_no * p_of_no);"
   ]
  }
 ],
 "metadata": {
  "kernelspec": {
   "display_name": ".venv",
   "language": "python",
   "name": "python3"
  },
  "language_info": {
   "codemirror_mode": {
    "name": "ipython",
    "version": 3
   },
   "file_extension": ".py",
   "mimetype": "text/x-python",
   "name": "python",
   "nbconvert_exporter": "python",
   "pygments_lexer": "ipython3",
   "version": "3.9.6"
  }
 },
 "nbformat": 4,
 "nbformat_minor": 2
}
