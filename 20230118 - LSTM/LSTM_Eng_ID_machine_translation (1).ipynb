{
  "cells": [
    {
      "cell_type": "code",
      "execution_count": 2,
      "metadata": {
        "colab": {
          "base_uri": "https://localhost:8080/"
        },
        "id": "iiFUcrVM_ddG",
        "outputId": "f1efc6a8-4d67-4e21-e7d9-b7ace0023f48"
      },
      "outputs": [],
      "source": [
        "import tensorflow as tf\n",
        "from pathlib import Path\n",
        "\n",
        "url = \"https://github.com/stevelukis/rnn-ind-eng/raw/main/ind-eng.zip\"\n",
        "path = tf.keras.utils.get_file(\"ind-eng.zip\", origin=url, cache_dir=\".\",\n",
        "                               extract=True)\n",
        "text = (Path(path).parent / \"ind.txt\").read_text(encoding='utf-8')"
      ]
    },
    {
      "cell_type": "code",
      "execution_count": 3,
      "metadata": {
        "id": "nIzRfLvQ_g9N"
      },
      "outputs": [],
      "source": [
        "import numpy as np\n",
        "\n",
        "triples = [line.split('\\t') for line in text.splitlines()]\n",
        "np.random.shuffle(triples)\n",
        "sentences_en, sentences_id, _ = zip(*triples)"
      ]
    },
    {
      "cell_type": "code",
      "execution_count": 4,
      "metadata": {
        "colab": {
          "base_uri": "https://localhost:8080/"
        },
        "id": "UR4xN9EmATxU",
        "outputId": "c07f0174-a1b2-490a-a3a3-714a30e2b8c4"
      },
      "outputs": [
        {
          "name": "stdout",
          "output_type": "stream",
          "text": [
            "9243\n"
          ]
        }
      ],
      "source": [
        "print(len(sentences_en))"
      ]
    },
    {
      "cell_type": "code",
      "execution_count": 5,
      "metadata": {
        "colab": {
          "base_uri": "https://localhost:8080/"
        },
        "id": "JydtwsuOAWQx",
        "outputId": "85562493-f199-4808-e190-456b09d52731"
      },
      "outputs": [
        {
          "name": "stdout",
          "output_type": "stream",
          "text": [
            "Unbelievable! => Luar biasa!\n",
            "Tom did it. => Tom melakukannya.\n",
            "I could be away for some time. => Saya akan pergi selama beberapa waktu.\n",
            "Tom said that he had to work on Monday. => Tom berkata bahwa dia harus bekerja pada hari Senin.\n",
            "I thought he was sick. => Kukira dia sakit.\n",
            "I haven't seen you here before. => Aku belum pernah melihatmu di sini sebelumnya.\n",
            "It's up to you. => Terserah padamu.\n",
            "I want to go on a trip with you. => Aku ingin pergi jalan-jalan denganmu.\n",
            "Who was it that bought this skirt yesterday? => Siapa yang membeli rok ini kemarin?\n",
            "Tom would never forgive us if we did that. => Tom tidak akan pernah memaafkan kita jika kita melakukan itu.\n"
          ]
        }
      ],
      "source": [
        "for i in range(10):\n",
        "    print(sentences_en[i] + ' => ' + sentences_id[i])"
      ]
    },
    {
      "cell_type": "code",
      "execution_count": 6,
      "metadata": {
        "id": "aV7d1bsDAY0v"
      },
      "outputs": [],
      "source": [
        "vocab_size = 500\n",
        "max_length = 50\n",
        "\n",
        "text_vec_layer_en = tf.keras.layers.TextVectorization(\n",
        "    vocab_size, output_sequence_length=max_length\n",
        ")\n",
        "text_vec_layer_id = tf.keras.layers.TextVectorization(\n",
        "    vocab_size, output_sequence_length=max_length\n",
        ")\n",
        "text_vec_layer_en.adapt(sentences_en)\n",
        "text_vec_layer_id.adapt([f'startofseq {s} endofseq' for s in sentences_id])\n",
        "X_train = tf.constant(sentences_en[:8500])\n",
        "X_val = tf.constant(sentences_en[8500:])\n",
        "X_train_dec = tf.constant([f'startofseq {s}' for s in sentences_id[:8500]])\n",
        "X_val_dec = tf.constant([f'startofseq {s}' for s in sentences_id[8500:]])\n",
        "\n",
        "y_train = text_vec_layer_id([f'{s} endofseq' for s in sentences_id[:8500]])\n",
        "y_val = text_vec_layer_id([f'{s} endofseq' for s in sentences_id[8500:]])"
      ]
    },
    {
      "cell_type": "code",
      "execution_count": 7,
      "metadata": {
        "id": "awlwsJ-iAboD"
      },
      "outputs": [],
      "source": [
        "encoder_inputs = tf.keras.layers.Input(shape=[], dtype=tf.string)\n",
        "decoder_inputs = tf.keras.layers.Input(shape=[], dtype=tf.string)\n",
        "\n",
        "embed_size = 128\n",
        "\n",
        "encoder_input_ids = text_vec_layer_en(encoder_inputs)\n",
        "decoder_input_ids = text_vec_layer_id(decoder_inputs)\n",
        "\n",
        "encoder_embedding_layer = tf.keras.layers.Embedding(vocab_size,\n",
        "                                                    embed_size,\n",
        "                                                    mask_zero=True)\n",
        "decoder_embedding_layer = tf.keras.layers.Embedding(vocab_size,\n",
        "                                                    embed_size,\n",
        "                                                    mask_zero=True)\n",
        "\n",
        "encoder_embeddings = encoder_embedding_layer(encoder_input_ids)\n",
        "decoder_embeddings = decoder_embedding_layer(decoder_input_ids)"
      ]
    },
    {
      "cell_type": "code",
      "execution_count": 8,
      "metadata": {
        "id": "tgqU5E4FAeBS"
      },
      "outputs": [],
      "source": [
        "encoder = tf.keras.layers.Bidirectional(\n",
        "    tf.keras.layers.LSTM(256, return_state=True)\n",
        ")\n",
        "\n",
        "encoder_outputs, *encoder_state = encoder(encoder_embeddings)\n",
        "encoder_state = [tf.concat(encoder_state[::2], axis=-1),\n",
        "                 tf.concat(encoder_state[1::2], axis=-1)]"
      ]
    },
    {
      "cell_type": "code",
      "execution_count": 9,
      "metadata": {
        "id": "0gqNWJHjAgCW"
      },
      "outputs": [],
      "source": [
        "decoder = tf.keras.layers.LSTM(512, return_sequences=True)\n",
        "decoder_outputs = decoder(decoder_embeddings, initial_state=encoder_state)"
      ]
    },
    {
      "cell_type": "code",
      "execution_count": 10,
      "metadata": {
        "id": "B3dDPtq6AhyN"
      },
      "outputs": [],
      "source": [
        "output_layer = tf.keras.layers.Dense(vocab_size, activation='softmax')\n",
        "y_proba = output_layer(decoder_outputs)"
      ]
    },
    {
      "cell_type": "code",
      "execution_count": 11,
      "metadata": {
        "colab": {
          "base_uri": "https://localhost:8080/"
        },
        "id": "VA6LhlQiAjox",
        "outputId": "743eed2d-602a-4eb5-9b6e-0f2f2b64e058"
      },
      "outputs": [
        {
          "name": "stdout",
          "output_type": "stream",
          "text": [
            "Epoch 1/20\n"
          ]
        },
        {
          "name": "stderr",
          "output_type": "stream",
          "text": [
            "2024-01-18 20:23:49.562896: I tensorflow/core/common_runtime/executor.cc:1197] [/device:CPU:0] (DEBUG INFO) Executor start aborting (this does not indicate an error and you can ignore this message): INVALID_ARGUMENT: You must feed a value for placeholder tensor 'gradients/ReverseV2_grad/ReverseV2/ReverseV2/axis' with dtype int32 and shape [1]\n",
            "\t [[{{node gradients/ReverseV2_grad/ReverseV2/ReverseV2/axis}}]]\n",
            "2024-01-18 20:24:03.795412: I tensorflow/core/common_runtime/executor.cc:1197] [/device:CPU:0] (DEBUG INFO) Executor start aborting (this does not indicate an error and you can ignore this message): INVALID_ARGUMENT: You must feed a value for placeholder tensor 'gradients/ReverseV2_grad/ReverseV2/ReverseV2/axis' with dtype int32 and shape [1]\n",
            "\t [[{{node gradients/ReverseV2_grad/ReverseV2/ReverseV2/axis}}]]\n"
          ]
        },
        {
          "name": "stdout",
          "output_type": "stream",
          "text": [
            "266/266 [==============================] - 437s 2s/step - loss: 3.8938 - accuracy: 0.3247 - val_loss: 3.5071 - val_accuracy: 0.3765\n",
            "Epoch 2/20\n",
            "266/266 [==============================] - 378s 1s/step - loss: 3.1637 - accuracy: 0.4119 - val_loss: 3.0718 - val_accuracy: 0.4250\n",
            "Epoch 3/20\n",
            "266/266 [==============================] - 362s 1s/step - loss: 2.7911 - accuracy: 0.4543 - val_loss: 2.8375 - val_accuracy: 0.4611\n",
            "Epoch 4/20\n",
            "266/266 [==============================] - 404s 2s/step - loss: 2.5213 - accuracy: 0.4866 - val_loss: 2.6642 - val_accuracy: 0.4760\n",
            "Epoch 5/20\n",
            "266/266 [==============================] - 412s 2s/step - loss: 2.2801 - accuracy: 0.5166 - val_loss: 2.5268 - val_accuracy: 0.4896\n",
            "Epoch 6/20\n",
            "266/266 [==============================] - 431s 2s/step - loss: 2.0549 - accuracy: 0.5433 - val_loss: 2.4182 - val_accuracy: 0.5091\n",
            "Epoch 7/20\n",
            "266/266 [==============================] - 368s 1s/step - loss: 1.8458 - accuracy: 0.5749 - val_loss: 2.3477 - val_accuracy: 0.5143\n",
            "Epoch 8/20\n",
            "266/266 [==============================] - 371s 1s/step - loss: 1.6489 - accuracy: 0.6071 - val_loss: 2.2978 - val_accuracy: 0.5251\n",
            "Epoch 9/20\n",
            " 19/266 [=>............................] - ETA: 5:42 - loss: 1.4297 - accuracy: 0.6475"
          ]
        }
      ],
      "source": [
        "model = tf.keras.Model(inputs=[encoder_inputs, decoder_inputs],\n",
        "                       outputs=[y_proba])\n",
        "model.compile(loss='sparse_categorical_crossentropy', optimizer='nadam',\n",
        "              metrics=['accuracy'])\n",
        "history = model.fit((X_train, X_train_dec), y_train, epochs=20,\n",
        "                    validation_data=((X_val, X_val_dec), y_val))"
      ]
    },
    {
      "cell_type": "code",
      "execution_count": null,
      "metadata": {
        "id": "DAE4l8UoAmCb"
      },
      "outputs": [],
      "source": [
        "def translate(sentence_en):\n",
        "    translation = ''\n",
        "    for word_idx in range(max_length):\n",
        "        X = np.array([sentence_en])\n",
        "        X_dec = np.array([f'startofseq ' + translation])\n",
        "        y_proba = model.predict([X, X_dec])[0, word_idx]\n",
        "        predicted_word_id = np.argmax(y_proba)\n",
        "        predicted_word = text_vec_layer_id.get_vocabulary()[predicted_word_id]\n",
        "        if predicted_word == 'endofseq':\n",
        "            break\n",
        "        translation += ' ' + predicted_word\n",
        "    return translation.strip()"
      ]
    },
    {
      "cell_type": "code",
      "execution_count": null,
      "metadata": {
        "colab": {
          "base_uri": "https://localhost:8080/",
          "height": 160
        },
        "id": "12zie69tAoWd",
        "outputId": "2e879a99-158a-4d73-cdb6-0701ecebc907"
      },
      "outputs": [
        {
          "name": "stdout",
          "output_type": "stream",
          "text": [
            "1/1 [==============================] - 4s 4s/step\n",
            "1/1 [==============================] - 0s 22ms/step\n",
            "1/1 [==============================] - 0s 21ms/step\n",
            "1/1 [==============================] - 0s 22ms/step\n",
            "1/1 [==============================] - 0s 22ms/step\n",
            "1/1 [==============================] - 0s 22ms/step\n",
            "1/1 [==============================] - 0s 23ms/step\n"
          ]
        },
        {
          "data": {
            "application/vnd.google.colaboratory.intrinsic+json": {
              "type": "string"
            },
            "text/plain": [
              "'aku pergi ke sekolah dengan awal'"
            ]
          },
          "execution_count": 12,
          "metadata": {},
          "output_type": "execute_result"
        }
      ],
      "source": [
        "translate('I go to school today')"
      ]
    },
    {
      "cell_type": "code",
      "execution_count": null,
      "metadata": {
        "id": "4NKpriBV_lTi"
      },
      "outputs": [],
      "source": []
    }
  ],
  "metadata": {
    "accelerator": "GPU",
    "colab": {
      "gpuType": "T4",
      "provenance": []
    },
    "kernelspec": {
      "display_name": "Python 3",
      "name": "python3"
    },
    "language_info": {
      "codemirror_mode": {
        "name": "ipython",
        "version": 3
      },
      "file_extension": ".py",
      "mimetype": "text/x-python",
      "name": "python",
      "nbconvert_exporter": "python",
      "pygments_lexer": "ipython3",
      "version": "3.11.5"
    }
  },
  "nbformat": 4,
  "nbformat_minor": 0
}
