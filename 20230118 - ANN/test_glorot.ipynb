{
 "cells": [
  {
   "cell_type": "code",
   "execution_count": 10,
   "metadata": {},
   "outputs": [
    {
     "name": "stdout",
     "output_type": "stream",
     "text": [
      "Previous Layer Weight: 0.07\n",
      "New Weight in Next Layer: [[-0.0579748  -0.08437407 -0.00232553 ... -0.00612549  0.06815439\n",
      "   0.03567393]\n",
      " [ 0.08265878  0.0539071  -0.0162592  ... -0.07226307 -0.00669983\n",
      "  -0.08058292]\n",
      " [-0.07378744  0.06274443 -0.03316023 ... -0.04501561  0.05788112\n",
      "   0.00465263]\n",
      " ...\n",
      " [-0.05088684  0.04390905 -0.01346412 ...  0.05297833 -0.02476288\n",
      "  -0.01713427]\n",
      " [ 0.02000793  0.05429173  0.02099853 ...  0.00992598 -0.01858722\n",
      "   0.07189002]\n",
      " [-0.05385868  0.00949777 -0.00351872 ...  0.03399619 -0.04446414\n",
      "  -0.02942849]]\n"
     ]
    }
   ],
   "source": [
    "from tensorflow.keras.initializers import GlorotUniform\n",
    "\n",
    "# Assuming you have a weight of 0.07 in the layer before\n",
    "previous_layer_weight = 0.07\n",
    "\n",
    "# Using GlorotUniform initializer for the next layer\n",
    "initializer = GlorotUniform()\n",
    "new_weight = initializer(shape=(256, 512)).numpy()\n",
    "\n",
    "print(f\"Previous Layer Weight: {previous_layer_weight}\")\n",
    "print(f\"New Weight in Next Layer: {new_weight}\")"
   ]
  }
 ],
 "metadata": {
  "kernelspec": {
   "display_name": "base",
   "language": "python",
   "name": "python3"
  },
  "language_info": {
   "codemirror_mode": {
    "name": "ipython",
    "version": 3
   },
   "file_extension": ".py",
   "mimetype": "text/x-python",
   "name": "python",
   "nbconvert_exporter": "python",
   "pygments_lexer": "ipython3",
   "version": "3.10.9"
  },
  "orig_nbformat": 4
 },
 "nbformat": 4,
 "nbformat_minor": 2
}
