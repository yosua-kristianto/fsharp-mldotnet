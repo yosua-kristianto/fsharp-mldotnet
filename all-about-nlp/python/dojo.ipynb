{
 "cells": [
  {
   "cell_type": "code",
   "execution_count": 40,
   "metadata": {},
   "outputs": [
    {
     "name": "stdout",
     "output_type": "stream",
     "text": [
      "Hello world\n"
     ]
    }
   ],
   "source": [
    "print(\"Hello world\");"
   ]
  },
  {
   "cell_type": "markdown",
   "metadata": {},
   "source": [
    "# Learning some NLPs\n",
    "\n",
    "This code are based on [Analytics Vidhya's website](https://www.analyticsvidhya.com/blog/2021/05/natural-language-processing-step-by-step-guide/)"
   ]
  },
  {
   "cell_type": "code",
   "execution_count": 41,
   "metadata": {},
   "outputs": [],
   "source": [
    "import pandas;\n",
    "import re;\n",
    "\n",
    "# Stemming\n",
    "import nltk; # Natural Language ToolKit\n",
    "from nltk.corpus import stopwords; \n",
    "from nltk.stem.porter import PorterStemmer;\n",
    "\n",
    "# Data Visualization\n",
    "import matplotlib.pyplot as plt;\n",
    "import seaborn;"
   ]
  },
  {
   "cell_type": "code",
   "execution_count": 42,
   "metadata": {},
   "outputs": [
    {
     "name": "stdout",
     "output_type": "stream",
     "text": [
      "   Clothing ID  Age                    Title  \\\n",
      "0          767   33                      NaN   \n",
      "1         1080   34                      NaN   \n",
      "2         1077   60  Some major design flaws   \n",
      "3         1049   50         My favorite buy!   \n",
      "4          847   47         Flattering shirt   \n",
      "\n",
      "                                         Review Text  Rating  Recommended IND  \\\n",
      "0  Absolutely wonderful - silky and sexy and comf...       4                1   \n",
      "1  Love this dress!  it's sooo pretty.  i happene...       5                1   \n",
      "2  I had such high hopes for this dress and reall...       3                0   \n",
      "3  I love, love, love this jumpsuit. it's fun, fl...       5                1   \n",
      "4  This shirt is very flattering to all due to th...       5                1   \n",
      "\n",
      "   Positive Feedback Count   Division Name Department Name Class Name  \n",
      "0                        0       Initmates        Intimate  Intimates  \n",
      "1                        4         General         Dresses    Dresses  \n",
      "2                        0         General         Dresses    Dresses  \n",
      "3                        0  General Petite         Bottoms      Pants  \n",
      "4                        6         General            Tops    Blouses  \n"
     ]
    }
   ],
   "source": [
    "# Exclude the number column and header row.\n",
    "data_frame = pandas.read_csv(\"Womens Clothing E-Commerce Reviews.csv\", header = 0, index_col = 0);\n",
    "print(data_frame.head());"
   ]
  },
  {
   "cell_type": "markdown",
   "metadata": {},
   "source": [
    "# Dataset pre-processing\n",
    "This whole part of this book is dataset pre-processing. There are several things to be clear within this part:\n",
    "\n",
    "1. Finding information regarding the dataset within by visualize the data conditions.\n",
    "2. Downloading stop words dictionary in english using `nltk`. However, this is not needed once you have a dataset of stop words that contain all stop words in certain of language, and using \\n as its seperator between data.\n",
    "3. Stemming, Lemmatization normalization, and Stop Words removal"
   ]
  },
  {
   "cell_type": "code",
   "execution_count": 43,
   "metadata": {},
   "outputs": [
    {
     "name": "stdout",
     "output_type": "stream",
     "text": [
      "Clothing ID                   0\n",
      "Age                           0\n",
      "Title                      3810\n",
      "Review Text                 845\n",
      "Rating                        0\n",
      "Recommended IND               0\n",
      "Positive Feedback Count       0\n",
      "Division Name                14\n",
      "Department Name              14\n",
      "Class Name                   14\n",
      "dtype: int64\n"
     ]
    }
   ],
   "source": [
    "# Count data with None entry\n",
    "print(data_frame.isna().sum());"
   ]
  },
  {
   "cell_type": "code",
   "execution_count": 44,
   "metadata": {},
   "outputs": [
    {
     "data": {
      "image/png": "[encoded data removed]",
      "text/plain": [
       "<Figure size 640x480 with 1 Axes>"
      ]
     },
     "metadata": {},
     "output_type": "display_data"
    }
   ],
   "source": [
    "seaborn.countplot(x = \"Rating\", data = data_frame);\n",
    "\n",
    "# Basically see how much data rating distributed across the data.\n",
    "plt.title(\"Distribution of rating\");"
   ]
  },
  {
   "cell_type": "markdown",
   "metadata": {},
   "source": [
    "## Downloading the stopwords dictionary "
   ]
  },
  {
   "cell_type": "code",
   "execution_count": 45,
   "metadata": {},
   "outputs": [
    {
     "name": "stderr",
     "output_type": "stream",
     "text": [
      "[nltk_data] Downloading package stopwords to\n",
      "[nltk_data]     C:\\Users\\yosua\\AppData\\Roaming\\nltk_data...\n",
      "[nltk_data]   Package stopwords is already up-to-date!\n"
     ]
    }
   ],
   "source": [
    "nltk.download(\"stopwords\");\n",
    "stops = stopwords.words(\"english\");"
   ]
  },
  {
   "cell_type": "markdown",
   "metadata": {},
   "source": [
    "## Tokenization Part"
   ]
  },
  {
   "cell_type": "code",
   "execution_count": 53,
   "metadata": {},
   "outputs": [
    {
     "data": {
      "text/html": [
       "<div>\n",
       "<style scoped>\n",
       "    .dataframe tbody tr th:only-of-type {\n",
       "        vertical-align: middle;\n",
       "    }\n",
       "\n",
       "    .dataframe tbody tr th {\n",
       "        vertical-align: top;\n",
       "    }\n",
       "\n",
       "    .dataframe thead th {\n",
       "        text-align: right;\n",
       "    }\n",
       "</style>\n",
       "<table border=\"1\" class=\"dataframe\">\n",
       "  <thead>\n",
       "    <tr style=\"text-align: right;\">\n",
       "      <th></th>\n",
       "      <th>Review Text</th>\n",
       "      <th>Recommended IND</th>\n",
       "      <th>Review_Clean</th>\n",
       "    </tr>\n",
       "  </thead>\n",
       "  <tbody>\n",
       "    <tr>\n",
       "      <th>0</th>\n",
       "      <td>Absolutely wonderful - silky and sexy and comf...</td>\n",
       "      <td>1</td>\n",
       "      <td>absolutely wonderful silky and sexy and comfor...</td>\n",
       "    </tr>\n",
       "    <tr>\n",
       "      <th>1</th>\n",
       "      <td>Love this dress!  it's sooo pretty.  i happene...</td>\n",
       "      <td>1</td>\n",
       "      <td>love this dress it s sooo pretty i happened to...</td>\n",
       "    </tr>\n",
       "    <tr>\n",
       "      <th>2</th>\n",
       "      <td>I had such high hopes for this dress and reall...</td>\n",
       "      <td>0</td>\n",
       "      <td>i had such high hopes for this dress and reall...</td>\n",
       "    </tr>\n",
       "    <tr>\n",
       "      <th>3</th>\n",
       "      <td>I love, love, love this jumpsuit. it's fun, fl...</td>\n",
       "      <td>1</td>\n",
       "      <td>i love love love this jumpsuit it s fun flirty...</td>\n",
       "    </tr>\n",
       "    <tr>\n",
       "      <th>4</th>\n",
       "      <td>This shirt is very flattering to all due to th...</td>\n",
       "      <td>1</td>\n",
       "      <td>this shirt is very flattering to all due to th...</td>\n",
       "    </tr>\n",
       "  </tbody>\n",
       "</table>\n",
       "</div>"
      ],
      "text/plain": [
       "                                         Review Text  Recommended IND  \\\n",
       "0  Absolutely wonderful - silky and sexy and comf...                1   \n",
       "1  Love this dress!  it's sooo pretty.  i happene...                1   \n",
       "2  I had such high hopes for this dress and reall...                0   \n",
       "3  I love, love, love this jumpsuit. it's fun, fl...                1   \n",
       "4  This shirt is very flattering to all due to th...                1   \n",
       "\n",
       "                                        Review_Clean  \n",
       "0  absolutely wonderful silky and sexy and comfor...  \n",
       "1  love this dress it s sooo pretty i happened to...  \n",
       "2  i had such high hopes for this dress and reall...  \n",
       "3  i love love love this jumpsuit it s fun flirty...  \n",
       "4  this shirt is very flattering to all due to th...  "
      ]
     },
     "execution_count": 53,
     "metadata": {},
     "output_type": "execute_result"
    }
   ],
   "source": [
    "reviews = data_frame[[\"Review Text\", \"Recommended IND\"]];\n",
    "reviews = pandas.DataFrame(reviews);\n",
    "\n",
    "\"\"\"\n",
    "tokenization\n",
    "\n",
    "This method is used to do tokenization within string. These steps below applied within the function:\n",
    "\n",
    "1. Replace any non-alphabet characters to white space. \n",
    "    Since ^a-zA-Z is means the negation of any character that contains a-zA-Z in which means alphabet, the negation will then target the non-alphabet characters.\n",
    "\n",
    "2. Set all characters to lower\n",
    "    Yeah this is called as text normalization and it is required.\n",
    "\"\"\"\n",
    "def tokenization(words):\n",
    "    words = re.sub(\"[^a-zA-Z]\",\" \", str(words)); # Replace any non-alphabet characters to white space.  \n",
    "    text = words.lower().split(); # Set all characters to lower\n",
    "    return \" \".join(text);\n",
    "\n",
    "reviews[\"Review_Clean\"] = reviews[\"Review Text\"].apply(tokenization);\n",
    "reviews.head()"
   ]
  },
  {
   "cell_type": "markdown",
   "metadata": {},
   "source": [
    "# Stemming, removing Stop Words"
   ]
  },
  {
   "cell_type": "code",
   "execution_count": 78,
   "metadata": {},
   "outputs": [],
   "source": [
    "corpus = [];\n",
    "\n",
    "for i, e in enumerate(reviews[\"Review Text\"]):\n",
    "    e = str(e);\n",
    "\n",
    "    # Normalize the text (why ???)\n",
    "    review = re.sub(\"[^a-zA-Z]\",\" \", e); # Replace any non-alphabet characters to white space.  \n",
    "    review = review.lower().split(); # Set all characters to lower\n",
    "\n",
    "    # Stemming \n",
    "    porter_stemmer = PorterStemmer();\n",
    "    review = [\n",
    "        porter_stemmer.stem(\" \".join(review)) \n",
    "        for word in review \n",
    "        if not word in set(stops)]; \n",
    "\n",
    "    stemmed_text = \" \".join(review);\n",
    "    corpus.append(stemmed_text); # Append the stemmed text to the corpus array."
   ]
  },
  {
   "cell_type": "markdown",
   "metadata": {},
   "source": [
    "# Mmmmm missing link...\n",
    "\n",
    "So, basically, this part supposed to be visualizing the data within review clean dataframe, unfortunately, the tutorial didn't give any sign "
   ]
  },
  {
   "cell_type": "code",
   "execution_count": 79,
   "metadata": {},
   "outputs": [
    {
     "data": {
      "text/plain": [
       "0    absolutely wonderful silky and sexy and comfor...\n",
       "1    love this dress it s sooo pretty i happened to...\n",
       "2    i had such high hopes for this dress and reall...\n",
       "3    i love love love this jumpsuit it s fun flirty...\n",
       "4    this shirt is very flattering to all due to th...\n",
       "Name: Review_Clean, dtype: object"
      ]
     },
     "execution_count": 79,
     "metadata": {},
     "output_type": "execute_result"
    }
   ],
   "source": [
    "reviews[\"Review_Clean\"].head()"
   ]
  },
  {
   "cell_type": "code",
   "execution_count": null,
   "metadata": {},
   "outputs": [],
   "source": [
    "review"
   ]
  }
 ],
 "metadata": {
  "kernelspec": {
   "display_name": "learn-nlp",
   "language": "python",
   "name": "python3"
  },
  "language_info": {
   "codemirror_mode": {
    "name": "ipython",
    "version": 3
   },
   "file_extension": ".py",
   "mimetype": "text/x-python",
   "name": "python",
   "nbconvert_exporter": "python",
   "pygments_lexer": "ipython3",
   "version": "3.10.13"
  },
  "orig_nbformat": 4
 },
 "nbformat": 4,
 "nbformat_minor": 2
}
