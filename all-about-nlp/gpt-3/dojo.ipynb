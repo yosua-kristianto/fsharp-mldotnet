{
 "cells": [
  {
   "cell_type": "code",
   "execution_count": 2,
   "metadata": {},
   "outputs": [],
   "source": [
    "# from transformers import pipeline, set_seed;\n",
    "\n",
    "# generator = pipeline(\"text-generation\", model = \"gpt2\");\n",
    "# set_seed(42);\n",
    "\n",
    "# generator(\"Hello, I'm a language model,\", max_length=30, num_return_sequences=5);"
   ]
  },
  {
   "cell_type": "code",
   "execution_count": 3,
   "metadata": {},
   "outputs": [],
   "source": [
    "# from transformers import GPT2Tokenizer, GPT2Model\n",
    "# tokenizer = GPT2Tokenizer.from_pretrained('gpt2')\n",
    "# model = GPT2Model.from_pretrained('gpt2')\n",
    "# text = \"Replace me by any text you'd like.\"\n",
    "# encoded_input = tokenizer(text, return_tensors='pt')\n",
    "# output = model(**encoded_input)"
   ]
  },
  {
   "cell_type": "code",
   "execution_count": 4,
   "metadata": {},
   "outputs": [
    {
     "name": "stderr",
     "output_type": "stream",
     "text": [
      "100%|██████████| 815973/815973 [00:21<00:00, 38162.70B/s]\n",
      "100%|██████████| 458495/458495 [00:15<00:00, 29945.91B/s]\n",
      "ftfy or spacy is not installed using BERT BasicTokenizer instead of SpaCy & ftfy.\n",
      "100%|██████████| 656/656 [00:00<00:00, 1235502.21B/s]\n",
      "  3%|▎         | 14621696/466312920 [07:23<5:34:00, 22538.94B/s] "
     ]
    }
   ],
   "source": [
    "from transformers import OpenAIGPTTokenizer, TFOpenAIGPTModel;\n",
    "\n",
    "tokenizer = OpenAIGPTTokenizer.from_pretrained(\"openai-gpt\");\n",
    "model = TFOpenAIGPTModel.from_pretrained(\"openai-gpt\");\n",
    "\n",
    "inputs = tokenizer(\"Hello, I'm a language model, \", return_tensors = \"tf\");\n",
    "output = model(inputs);\n",
    "\n",
    "last_hidden_states = output.last_hidden_state"
   ]
  }
 ],
 "metadata": {
  "kernelspec": {
   "display_name": "Python 3",
   "language": "python",
   "name": "python3"
  },
  "language_info": {
   "codemirror_mode": {
    "name": "ipython",
    "version": 3
   },
   "file_extension": ".py",
   "mimetype": "text/x-python",
   "name": "python",
   "nbconvert_exporter": "python",
   "pygments_lexer": "ipython3",
   "version": "3.11.5"
  }
 },
 "nbformat": 4,
 "nbformat_minor": 2
}
