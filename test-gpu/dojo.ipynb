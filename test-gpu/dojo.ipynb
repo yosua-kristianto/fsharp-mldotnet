{
 "cells": [
  {
   "cell_type": "markdown",
   "metadata": {},
   "source": [
    "# Using Tensorflow GPU\n",
    "\n",
    "So, after searching for how to use Tensorflow with GPU (yeah for about 5 months now), unknowingly, since version 2.11, the tensorflow GPU native support for Windows is no longer available. Since I'm using Windows, I can't use Tensorflow GPU support. Instead, I need to install WSL, in which I do with [**Ubuntu**](). Here is the step-by-step to do this:\n",
    "><br />\n",
    "><br />\n",
    "> ## The step-by-step to install Tensorflow with GPU support\n",
    "><br />\n",
    "><br />\n",
    ">\n",
    "> My current specifications:\n",
    ">\n",
    "> | Specification |\n",
    "> |---|\n",
    "> | Windows 10 / 11 > Install WSL with Ubuntu OS |\n",
    ">\n",
    "><br />\n",
    "><br />\n",
    ">1. Install WSL if you haven't (Win 10 / 11)\n",
    "><br />\n",
    "><br />\n",
    ">2. Make sure you run `nvidia-smi` command in your WSL terminal. If it shows your GPU, continue with the next step. Otherwise, try to install your GPU driver, and repeat the step.\n",
    "><br />\n",
    "><br />\n",
    ">3. (I'm using Anaconda... So...) Installing Anaconda \n",
    "><br />\n",
    ">   I used to use this [link](https://www.how2shout.com/how-to/install-anaconda-wsl-windows-10-ubuntu-linux-app.html) \n",
    "><br />\n",
    ">   3.1 According to this link, run `wget https://repo.anaconda.com/archive/Anaconda3-2022.10-Linux-x86_64.sh`\n",
    "><br />\n",
    ">   3.2 Run the `sh` file with `./Anaconda3-2022.10-Linux-x86_64.sh`\n",
    "><br />\n",
    "><br />\n",
    ">   3.3 Follow the instruction within the installation procedure\n",
    "><br />\n",
    "><br />\n",
    ">4. Use conda to install `pip jupyter ipykernel python=3.10`\n",
    "><br />\n",
    "><br />\n",
    ">5. After installed, run `pip install tensorflow[and-cuda]`\n",
    "><br />\n",
    "><br />\n",
    ">6. To use this environment in your Visual Studio Code, run Jupyter notebook backend by running `jupyter --port [the_port]` in your WSL. For example, `jupyter --port 55715`\n",
    "><br />\n",
    "><br />\n",
    ">7. In your Visual Studio Code, when selecting kernel, select *Another kernel*, and then select *Existing Jupyter Server*. Enter the URL of the running Jupyter server, like `http://localhost:55715`, after that, save its name. If you're asked for the password, check the WSL terminal, copy the token after the `token` as example below:\n",
    "><br />\n",
    "><br />\n",
    "> Hence the Jupyter link is `http://localhost:55713/tree?token=ae04e9abaa9f27036a4d19f230f8863f106ac9271dd446fe`\n",
    "><br />\n",
    "><br />\n",
    "> The password is `ae04e9abaa9f27036a4d19f230f8863f106ac9271dd446fe`"
   ]
  },
  {
   "cell_type": "code",
   "execution_count": 1,
   "metadata": {},
   "outputs": [
    {
     "name": "stderr",
     "output_type": "stream",
     "text": [
      "2024-01-09 20:12:57.631873: E external/local_xla/xla/stream_executor/cuda/cuda_dnn.cc:9261] Unable to register cuDNN factory: Attempting to register factory for plugin cuDNN when one has already been registered\n",
      "2024-01-09 20:12:57.632210: E external/local_xla/xla/stream_executor/cuda/cuda_fft.cc:607] Unable to register cuFFT factory: Attempting to register factory for plugin cuFFT when one has already been registered\n",
      "2024-01-09 20:12:57.633661: E external/local_xla/xla/stream_executor/cuda/cuda_blas.cc:1515] Unable to register cuBLAS factory: Attempting to register factory for plugin cuBLAS when one has already been registered\n",
      "2024-01-09 20:12:57.641610: I tensorflow/core/platform/cpu_feature_guard.cc:182] This TensorFlow binary is optimized to use available CPU instructions in performance-critical operations.\n",
      "To enable the following instructions: AVX2 FMA, in other operations, rebuild TensorFlow with the appropriate compiler flags.\n",
      "2024-01-09 20:12:58.468129: W tensorflow/compiler/tf2tensorrt/utils/py_utils.cc:38] TF-TRT Warning: Could not find TensorRT\n"
     ]
    }
   ],
   "source": [
    "import tensorflow;"
   ]
  },
  {
   "cell_type": "code",
   "execution_count": 5,
   "metadata": {},
   "outputs": [
    {
     "data": {
      "text/plain": [
       "[PhysicalDevice(name='/physical_device:GPU:0', device_type='GPU')]"
      ]
     },
     "execution_count": 5,
     "metadata": {},
     "output_type": "execute_result"
    }
   ],
   "source": [
    "tensorflow.config.list_physical_devices('GPU')"
   ]
  }
 ],
 "metadata": {
  "kernelspec": {
   "display_name": "Python 3 (ipykernel)",
   "language": "python",
   "name": "python3"
  },
  "language_info": {
   "codemirror_mode": {
    "name": "ipython",
    "version": 3
   },
   "file_extension": ".py",
   "mimetype": "text/x-python",
   "name": "python",
   "nbconvert_exporter": "python",
   "pygments_lexer": "ipython3",
   "version": "3.10.13"
  },
  "orig_nbformat": 4
 },
 "nbformat": 4,
 "nbformat_minor": 2
}
