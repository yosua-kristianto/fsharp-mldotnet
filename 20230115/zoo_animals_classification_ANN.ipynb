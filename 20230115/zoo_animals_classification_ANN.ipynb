{
  "cells": [
    {
      "cell_type": "code",
      "execution_count": 81,
      "metadata": {
        "colab": {
          "base_uri": "https://localhost:8080/"
        },
        "id": "teHnQ5r4Te8I",
        "outputId": "508303e8-5c32-419e-c212-b2552e453ff8"
      },
      "outputs": [],
      "source": [
        "import pandas as pd\n",
        "from sklearn.model_selection import train_test_split\n",
        "import matplotlib.pyplot as plt\n",
        "import seaborn as sns\n",
        "import tensorflow.compat.v1 as tf\n",
        "tf.disable_v2_behavior()\n",
        "\n",
        "import warnings\n",
        "warnings.filterwarnings(\"ignore\")"
      ]
    },
    {
      "cell_type": "markdown",
      "metadata": {
        "id": "2BErnDZ8Te8L"
      },
      "source": [
        "## Import Dataset"
      ]
    },
    {
      "cell_type": "code",
      "execution_count": 82,
      "metadata": {
        "colab": {
          "base_uri": "https://localhost:8080/",
          "height": 226
        },
        "id": "HKDaYGfsTe8N",
        "outputId": "4c5cd7e1-b247-4add-985d-e708adcbe3f9",
        "scrolled": true
      },
      "outputs": [
        {
          "data": {
            "text/html": [
              "<div>\n",
              "<style scoped>\n",
              "    .dataframe tbody tr th:only-of-type {\n",
              "        vertical-align: middle;\n",
              "    }\n",
              "\n",
              "    .dataframe tbody tr th {\n",
              "        vertical-align: top;\n",
              "    }\n",
              "\n",
              "    .dataframe thead th {\n",
              "        text-align: right;\n",
              "    }\n",
              "</style>\n",
              "<table border=\"1\" class=\"dataframe\">\n",
              "  <thead>\n",
              "    <tr style=\"text-align: right;\">\n",
              "      <th></th>\n",
              "      <th>animal_name</th>\n",
              "      <th>hair</th>\n",
              "      <th>feathers</th>\n",
              "      <th>eggs</th>\n",
              "      <th>milk</th>\n",
              "      <th>airborne</th>\n",
              "      <th>aquatic</th>\n",
              "      <th>predator</th>\n",
              "      <th>toothed</th>\n",
              "      <th>backbone</th>\n",
              "      <th>breathes</th>\n",
              "      <th>venomous</th>\n",
              "      <th>fins</th>\n",
              "      <th>legs</th>\n",
              "      <th>tail</th>\n",
              "      <th>domestic</th>\n",
              "      <th>catsize</th>\n",
              "      <th>class_type</th>\n",
              "    </tr>\n",
              "  </thead>\n",
              "  <tbody>\n",
              "    <tr>\n",
              "      <th>0</th>\n",
              "      <td>aardvark</td>\n",
              "      <td>1</td>\n",
              "      <td>0</td>\n",
              "      <td>0</td>\n",
              "      <td>1</td>\n",
              "      <td>0</td>\n",
              "      <td>0</td>\n",
              "      <td>1</td>\n",
              "      <td>1</td>\n",
              "      <td>1</td>\n",
              "      <td>1</td>\n",
              "      <td>0</td>\n",
              "      <td>0</td>\n",
              "      <td>4</td>\n",
              "      <td>0</td>\n",
              "      <td>0</td>\n",
              "      <td>1</td>\n",
              "      <td>1</td>\n",
              "    </tr>\n",
              "    <tr>\n",
              "      <th>1</th>\n",
              "      <td>antelope</td>\n",
              "      <td>1</td>\n",
              "      <td>0</td>\n",
              "      <td>0</td>\n",
              "      <td>1</td>\n",
              "      <td>0</td>\n",
              "      <td>0</td>\n",
              "      <td>0</td>\n",
              "      <td>1</td>\n",
              "      <td>1</td>\n",
              "      <td>1</td>\n",
              "      <td>0</td>\n",
              "      <td>0</td>\n",
              "      <td>4</td>\n",
              "      <td>1</td>\n",
              "      <td>0</td>\n",
              "      <td>1</td>\n",
              "      <td>1</td>\n",
              "    </tr>\n",
              "    <tr>\n",
              "      <th>2</th>\n",
              "      <td>bass</td>\n",
              "      <td>0</td>\n",
              "      <td>0</td>\n",
              "      <td>1</td>\n",
              "      <td>0</td>\n",
              "      <td>0</td>\n",
              "      <td>1</td>\n",
              "      <td>1</td>\n",
              "      <td>1</td>\n",
              "      <td>1</td>\n",
              "      <td>0</td>\n",
              "      <td>0</td>\n",
              "      <td>1</td>\n",
              "      <td>0</td>\n",
              "      <td>1</td>\n",
              "      <td>0</td>\n",
              "      <td>0</td>\n",
              "      <td>4</td>\n",
              "    </tr>\n",
              "    <tr>\n",
              "      <th>3</th>\n",
              "      <td>bear</td>\n",
              "      <td>1</td>\n",
              "      <td>0</td>\n",
              "      <td>0</td>\n",
              "      <td>1</td>\n",
              "      <td>0</td>\n",
              "      <td>0</td>\n",
              "      <td>1</td>\n",
              "      <td>1</td>\n",
              "      <td>1</td>\n",
              "      <td>1</td>\n",
              "      <td>0</td>\n",
              "      <td>0</td>\n",
              "      <td>4</td>\n",
              "      <td>0</td>\n",
              "      <td>0</td>\n",
              "      <td>1</td>\n",
              "      <td>1</td>\n",
              "    </tr>\n",
              "    <tr>\n",
              "      <th>4</th>\n",
              "      <td>boar</td>\n",
              "      <td>1</td>\n",
              "      <td>0</td>\n",
              "      <td>0</td>\n",
              "      <td>1</td>\n",
              "      <td>0</td>\n",
              "      <td>0</td>\n",
              "      <td>1</td>\n",
              "      <td>1</td>\n",
              "      <td>1</td>\n",
              "      <td>1</td>\n",
              "      <td>0</td>\n",
              "      <td>0</td>\n",
              "      <td>4</td>\n",
              "      <td>1</td>\n",
              "      <td>0</td>\n",
              "      <td>1</td>\n",
              "      <td>1</td>\n",
              "    </tr>\n",
              "  </tbody>\n",
              "</table>\n",
              "</div>"
            ],
            "text/plain": [
              "  animal_name  hair  feathers  eggs  milk  airborne  aquatic  predator  \\\n",
              "0    aardvark     1         0     0     1         0        0         1   \n",
              "1    antelope     1         0     0     1         0        0         0   \n",
              "2        bass     0         0     1     0         0        1         1   \n",
              "3        bear     1         0     0     1         0        0         1   \n",
              "4        boar     1         0     0     1         0        0         1   \n",
              "\n",
              "   toothed  backbone  breathes  venomous  fins  legs  tail  domestic  catsize  \\\n",
              "0        1         1         1         0     0     4     0         0        1   \n",
              "1        1         1         1         0     0     4     1         0        1   \n",
              "2        1         1         0         0     1     0     1         0        0   \n",
              "3        1         1         1         0     0     4     0         0        1   \n",
              "4        1         1         1         0     0     4     1         0        1   \n",
              "\n",
              "   class_type  \n",
              "0           1  \n",
              "1           1  \n",
              "2           4  \n",
              "3           1  \n",
              "4           1  "
            ]
          },
          "execution_count": 82,
          "metadata": {},
          "output_type": "execute_result"
        }
      ],
      "source": [
        "animals = pd.read_csv(\"zoo.csv\")\n",
        "animals.head()"
      ]
    },
    {
      "cell_type": "code",
      "execution_count": 83,
      "metadata": {
        "colab": {
          "base_uri": "https://localhost:8080/"
        },
        "id": "dFRJs9iPTe8O",
        "outputId": "af500fa3-86fa-49e8-84e1-ce0cc16a09f8"
      },
      "outputs": [
        {
          "data": {
            "text/plain": [
              "(101, 18)"
            ]
          },
          "execution_count": 83,
          "metadata": {},
          "output_type": "execute_result"
        }
      ],
      "source": [
        "animals.shape"
      ]
    },
    {
      "cell_type": "markdown",
      "metadata": {
        "id": "_T8t2NbtTe8O"
      },
      "source": [
        "This dataset has 101 rows and 18 columns"
      ]
    },
    {
      "cell_type": "markdown",
      "metadata": {
        "id": "gXxpNvGVTe8O"
      },
      "source": [
        "##  The animal types"
      ]
    },
    {
      "cell_type": "code",
      "execution_count": 84,
      "metadata": {
        "colab": {
          "base_uri": "https://localhost:8080/",
          "height": 483
        },
        "id": "_8bAw1Q_Te8P",
        "outputId": "018c6258-b57a-494c-a86e-cb40f9375d9b",
        "scrolled": false
      },
      "outputs": [
        {
          "data": {
            "text/plain": [
              "<Axes: xlabel='class_type', ylabel='count'>"
            ]
          },
          "execution_count": 84,
          "metadata": {},
          "output_type": "execute_result"
        },
        {
          "data": {
            "image/png": "[encoded data removed]",
            "text/plain": [
              "<Figure size 1000x500 with 1 Axes>"
            ]
          },
          "metadata": {},
          "output_type": "display_data"
        }
      ],
      "source": [
        "plt.figure(figsize=(10, 5))\n",
        "sns.set_style('darkgrid')\n",
        "sns.countplot(animals,x=\"class_type\")"
      ]
    },
    {
      "cell_type": "markdown",
      "metadata": {
        "id": "X9U5bKbZTe8P"
      },
      "source": [
        "This dataset consists of 7 types of classes, namely:\n",
        "* 1: mammal\n",
        "* 2: bird\n",
        "* 3: reptile\n",
        "* 4: fish\n",
        "* 5: amphibian\n",
        "* 6: insect / arachnid\n",
        "* 7: invertebrate"
      ]
    },
    {
      "cell_type": "markdown",
      "metadata": {
        "id": "3W-JNXEsTe8P"
      },
      "source": [
        "## Correlation plot of 16 animal features\n",
        "animal_name and class_type columns are not included"
      ]
    },
    {
      "cell_type": "code",
      "execution_count": 85,
      "metadata": {
        "colab": {
          "base_uri": "https://localhost:8080/",
          "height": 1000
        },
        "id": "0Bp-qrM6Te8Q",
        "outputId": "08f81a1f-70cf-4b4f-c5c0-b6310bf795fc"
      },
      "outputs": [
        {
          "data": {
            "text/plain": [
              "Text(0.5, 1.05, 'Correlation of Animal Features')"
            ]
          },
          "execution_count": 85,
          "metadata": {},
          "output_type": "execute_result"
        },
        {
          "data": {
            "image/png": "[encoded data removed]",
            "text/plain": [
              "<Figure size 1400x1400 with 2 Axes>"
            ]
          },
          "metadata": {},
          "output_type": "display_data"
        }
      ],
      "source": [
        "corr = animals.iloc[:, 1:-1].corr()\n",
        "\n",
        "colormap = sns.diverging_palette(650, 690, as_cmap = True)\n",
        "plt.figure(figsize=(14, 14))\n",
        "sns.heatmap(corr, cbar = True, square = True, annot = True,\n",
        "            fmt = '.2f', annot_kws = {'size': 12},\n",
        "            cmap = colormap, linewidths = 0.1, linecolor = 'white')\n",
        "plt.title('Correlation of Animal Features', y = 1.05, size = 15)"
      ]
    },
    {
      "cell_type": "markdown",
      "metadata": {
        "id": "stU4RI9qTe8Q"
      },
      "source": [
        "# <a>Prepare for Machine Learning<a>\n",
        "\n",
        "## Features & Label\n",
        "\n",
        "From the dataset consisting of 18 columns taken 17 columns as a feature (x_data) and 1 column as a label (y_data) used for comparison with prediction results"
      ]
    },
    {
      "cell_type": "code",
      "execution_count": 86,
      "metadata": {
        "id": "NuNdNPUgTe8Q"
      },
      "outputs": [],
      "source": [
        "x_data = animals.iloc[:, :-1]\n",
        "y_data = animals.iloc[:, -1:]"
      ]
    },
    {
      "cell_type": "markdown",
      "metadata": {
        "id": "LwQwaRdmTe8Q"
      },
      "source": [
        "## Train and test data\n",
        "\n",
        "The dataset is divided into 2 parts, 70% for training data and 30% for testing data"
      ]
    },
    {
      "cell_type": "code",
      "execution_count": 87,
      "metadata": {
        "colab": {
          "base_uri": "https://localhost:8080/"
        },
        "id": "Jskv11keTe8Q",
        "outputId": "60cadcc3-4ebb-4d8c-c2fd-3a5bd30d79da"
      },
      "outputs": [
        {
          "name": "stdout",
          "output_type": "stream",
          "text": [
            "Training data has : (70, 17)\n",
            "Testing data has : (31, 17)\n"
          ]
        }
      ],
      "source": [
        "train_x, test_x, train_y, test_y = train_test_split(x_data, y_data,\n",
        "                                                    test_size=0.3,\n",
        "                                                    random_state=42,\n",
        "                                                    stratify=y_data)\n",
        "\n",
        "print('Training data has :', train_x.shape)\n",
        "print('Testing data has :', test_x.shape)"
      ]
    },
    {
      "cell_type": "markdown",
      "metadata": {
        "id": "y0IHuPQfTe8R"
      },
      "source": [
        "* Save the **animal_name** column for later combination(results).\n",
        "* Drop the **animal_name** column in train, test datasets, because it's unnecessary for model learning predictions."
      ]
    },
    {
      "cell_type": "code",
      "execution_count": 88,
      "metadata": {
        "colab": {
          "base_uri": "https://localhost:8080/"
        },
        "id": "hXcWyKq4Te8R",
        "outputId": "95a4eee7-41e3-4fe9-d3f5-1dfa5149192c"
      },
      "outputs": [
        {
          "name": "stdout",
          "output_type": "stream",
          "text": [
            "Training Data has (70, 16)\n",
            "Testing Data has (31, 16)\n"
          ]
        }
      ],
      "source": [
        "train_name = train_x['animal_name']\n",
        "test_name = test_x['animal_name']\n",
        "\n",
        "train_x = train_x.iloc[:, 1:]\n",
        "test_x = test_x.iloc[:, 1:]\n",
        "\n",
        "print(\"Training Data has\",train_x.shape)\n",
        "print(\"Testing Data has\",test_x.shape)"
      ]
    },
    {
      "cell_type": "markdown",
      "metadata": {
        "id": "xtI8W7P4Te8R"
      },
      "source": [
        "## Placeholder\n",
        "Placeholder is one of the function in tensorflow. It is a space to put and change values while the program is running.\n",
        "\n",
        "* for X, a place must have 16 columns, since zoo data has 16 features.\n",
        "* for Y, a place must have 1 columns, since the results has 1 outcome.\n",
        "* \"None\", it means it has no size limits."
      ]
    },
    {
      "cell_type": "code",
      "execution_count": 89,
      "metadata": {
        "id": "Y2gRHXoXTe8R"
      },
      "outputs": [],
      "source": [
        "X = tf.placeholder(tf.float32, [None, 16])\n",
        "Y = tf.placeholder(tf.int32, [None, 1])\n",
        "\n",
        "Y_one_hot = tf.one_hot(Y, 7)\n",
        "Y_one_hot = tf.reshape(Y_one_hot, [-1, 7])"
      ]
    },
    {
      "cell_type": "markdown",
      "metadata": {
        "id": "GJB8ESxfTe8R"
      },
      "source": [
        "## Make weight and bias value"
      ]
    },
    {
      "cell_type": "code",
      "execution_count": 90,
      "metadata": {
        "id": "RQTyc9TbTe8R"
      },
      "outputs": [],
      "source": [
        "W = tf.Variable(tf.random_normal([16, 7], seed = 0), name = 'weight')\n",
        "b = tf.Variable(tf.random_normal([7], seed = 0), name = 'bias')"
      ]
    },
    {
      "cell_type": "markdown",
      "metadata": {
        "id": "YEM15d2PTe8R"
      },
      "source": [
        "# Output\n",
        "\n",
        "**Output = Weight * Input + Bias**"
      ]
    },
    {
      "cell_type": "code",
      "execution_count": 91,
      "metadata": {
        "id": "UzrPgcZRTe8R"
      },
      "outputs": [],
      "source": [
        "logits = tf.matmul(X, W) + b\n",
        "hypotesis = tf.nn.softmax(logits)\n",
        "cost_i = tf.nn.softmax_cross_entropy_with_logits_v2(logits=logits, labels=Y_one_hot)\n",
        "cost = tf.reduce_mean(cost_i)\n",
        "train = tf.train.GradientDescentOptimizer(learning_rate=0.05).minimize(cost)"
      ]
    },
    {
      "cell_type": "markdown",
      "metadata": {
        "id": "BUKHitfCTe8R"
      },
      "source": [
        "# Original vs prediction"
      ]
    },
    {
      "cell_type": "code",
      "execution_count": 92,
      "metadata": {
        "colab": {
          "base_uri": "https://localhost:8080/"
        },
        "id": "9NAJwp9TTe8R",
        "outputId": "ca27d60b-6c3d-4798-a3c8-1a192278b91c"
      },
      "outputs": [],
      "source": [
        "prediction = tf.arg_max(hypotesis, 1)\n",
        "correct_prediction = tf.equal(prediction, tf.arg_max(Y_one_hot, 1))\n",
        "accuracy = tf.reduce_mean(tf.cast(correct_prediction, tf.float32))"
      ]
    },
    {
      "cell_type": "markdown",
      "metadata": {
        "id": "C7bakMTwTe8S"
      },
      "source": [
        "## Activate Model"
      ]
    },
    {
      "cell_type": "code",
      "execution_count": 93,
      "metadata": {
        "colab": {
          "base_uri": "https://localhost:8080/"
        },
        "id": "7Cc5OJDrTe8S",
        "outputId": "a7410606-bdd4-493c-fe93-de2d59a6acc4"
      },
      "outputs": [
        {
          "name": "stdout",
          "output_type": "stream",
          "text": [
            "Step:     0\tloss: 3.402\tAcc: 30.00%\n",
            "Step:  1000\tloss: 0.135\tAcc: 87.14%\n",
            "Step:  2000\tloss: 0.076\tAcc: 90.00%\n",
            "Step:  3000\tloss: 0.054\tAcc: 90.00%\n",
            "Step:  4000\tloss: 0.043\tAcc: 90.00%\n",
            "Step:  5000\tloss: 0.037\tAcc: 90.00%\n"
          ]
        }
      ],
      "source": [
        "with tf.Session() as sess:\n",
        "    sess.run(tf.global_variables_initializer())\n",
        "    for step in range(5001):\n",
        "        sess.run(train, feed_dict = {X: train_x, Y: train_y})\n",
        "        if step % 1000 == 0:\n",
        "            loss, acc = sess.run([cost, accuracy], feed_dict={X: train_x, Y: train_y})\n",
        "            print('Step: {:5}\\tloss: {:.3f}\\tAcc: {:.2%}'.format(step, loss, acc))\n",
        "\n",
        "        train_acc = sess.run(accuracy, feed_dict={X: train_x, Y: train_y})\n",
        "        test_acc, test_predict, test_correct = sess.run([accuracy, prediction, correct_prediction], feed_dict={X: test_x, Y: test_y})\n",
        "        # print(\"epoch: \", str(step+1), ' acc_train: ', train_acc, ' acc_test: ', test_acc)\n",
        "        # print(\"=============================================================\")"
      ]
    },
    {
      "cell_type": "markdown",
      "metadata": {
        "id": "OpAK0_znTe8S"
      },
      "source": [
        "## Result"
      ]
    },
    {
      "cell_type": "code",
      "execution_count": 94,
      "metadata": {
        "colab": {
          "base_uri": "https://localhost:8080/",
          "height": 1000
        },
        "id": "sWtee5aITe8S",
        "outputId": "443abf49-ddb3-45eb-ed0f-a7848893f890"
      },
      "outputs": [
        {
          "data": {
            "text/html": [
              "<div>\n",
              "<style scoped>\n",
              "    .dataframe tbody tr th:only-of-type {\n",
              "        vertical-align: middle;\n",
              "    }\n",
              "\n",
              "    .dataframe tbody tr th {\n",
              "        vertical-align: top;\n",
              "    }\n",
              "\n",
              "    .dataframe thead th {\n",
              "        text-align: right;\n",
              "    }\n",
              "</style>\n",
              "<table border=\"1\" class=\"dataframe\">\n",
              "  <thead>\n",
              "    <tr style=\"text-align: right;\">\n",
              "      <th></th>\n",
              "      <th>Name</th>\n",
              "      <th>Predict_Type</th>\n",
              "      <th>Origin_Type</th>\n",
              "      <th>Correct</th>\n",
              "    </tr>\n",
              "  </thead>\n",
              "  <tbody>\n",
              "    <tr>\n",
              "      <th>100</th>\n",
              "      <td>wren</td>\n",
              "      <td>2</td>\n",
              "      <td>2</td>\n",
              "      <td>True</td>\n",
              "    </tr>\n",
              "    <tr>\n",
              "      <th>58</th>\n",
              "      <td>penguin</td>\n",
              "      <td>2</td>\n",
              "      <td>2</td>\n",
              "      <td>True</td>\n",
              "    </tr>\n",
              "    <tr>\n",
              "      <th>43</th>\n",
              "      <td>lark</td>\n",
              "      <td>2</td>\n",
              "      <td>2</td>\n",
              "      <td>True</td>\n",
              "    </tr>\n",
              "    <tr>\n",
              "      <th>21</th>\n",
              "      <td>duck</td>\n",
              "      <td>2</td>\n",
              "      <td>2</td>\n",
              "      <td>True</td>\n",
              "    </tr>\n",
              "    <tr>\n",
              "      <th>10</th>\n",
              "      <td>cheetah</td>\n",
              "      <td>1</td>\n",
              "      <td>1</td>\n",
              "      <td>True</td>\n",
              "    </tr>\n",
              "    <tr>\n",
              "      <th>40</th>\n",
              "      <td>housefly</td>\n",
              "      <td>6</td>\n",
              "      <td>6</td>\n",
              "      <td>True</td>\n",
              "    </tr>\n",
              "    <tr>\n",
              "      <th>50</th>\n",
              "      <td>mongoose</td>\n",
              "      <td>1</td>\n",
              "      <td>1</td>\n",
              "      <td>True</td>\n",
              "    </tr>\n",
              "    <tr>\n",
              "      <th>4</th>\n",
              "      <td>boar</td>\n",
              "      <td>1</td>\n",
              "      <td>1</td>\n",
              "      <td>True</td>\n",
              "    </tr>\n",
              "    <tr>\n",
              "      <th>87</th>\n",
              "      <td>swan</td>\n",
              "      <td>2</td>\n",
              "      <td>2</td>\n",
              "      <td>True</td>\n",
              "    </tr>\n",
              "    <tr>\n",
              "      <th>80</th>\n",
              "      <td>slowworm</td>\n",
              "      <td>3</td>\n",
              "      <td>3</td>\n",
              "      <td>True</td>\n",
              "    </tr>\n",
              "    <tr>\n",
              "      <th>70</th>\n",
              "      <td>reindeer</td>\n",
              "      <td>1</td>\n",
              "      <td>1</td>\n",
              "      <td>True</td>\n",
              "    </tr>\n",
              "    <tr>\n",
              "      <th>37</th>\n",
              "      <td>hawk</td>\n",
              "      <td>2</td>\n",
              "      <td>2</td>\n",
              "      <td>True</td>\n",
              "    </tr>\n",
              "    <tr>\n",
              "      <th>7</th>\n",
              "      <td>carp</td>\n",
              "      <td>4</td>\n",
              "      <td>4</td>\n",
              "      <td>True</td>\n",
              "    </tr>\n",
              "    <tr>\n",
              "      <th>44</th>\n",
              "      <td>leopard</td>\n",
              "      <td>1</td>\n",
              "      <td>1</td>\n",
              "      <td>True</td>\n",
              "    </tr>\n",
              "    <tr>\n",
              "      <th>53</th>\n",
              "      <td>octopus</td>\n",
              "      <td>0</td>\n",
              "      <td>7</td>\n",
              "      <td>True</td>\n",
              "    </tr>\n",
              "    <tr>\n",
              "      <th>60</th>\n",
              "      <td>pike</td>\n",
              "      <td>4</td>\n",
              "      <td>4</td>\n",
              "      <td>True</td>\n",
              "    </tr>\n",
              "    <tr>\n",
              "      <th>84</th>\n",
              "      <td>squirrel</td>\n",
              "      <td>1</td>\n",
              "      <td>1</td>\n",
              "      <td>True</td>\n",
              "    </tr>\n",
              "    <tr>\n",
              "      <th>47</th>\n",
              "      <td>lynx</td>\n",
              "      <td>1</td>\n",
              "      <td>1</td>\n",
              "      <td>True</td>\n",
              "    </tr>\n",
              "    <tr>\n",
              "      <th>94</th>\n",
              "      <td>vole</td>\n",
              "      <td>1</td>\n",
              "      <td>1</td>\n",
              "      <td>True</td>\n",
              "    </tr>\n",
              "    <tr>\n",
              "      <th>89</th>\n",
              "      <td>toad</td>\n",
              "      <td>5</td>\n",
              "      <td>5</td>\n",
              "      <td>True</td>\n",
              "    </tr>\n",
              "    <tr>\n",
              "      <th>92</th>\n",
              "      <td>tuna</td>\n",
              "      <td>4</td>\n",
              "      <td>4</td>\n",
              "      <td>True</td>\n",
              "    </tr>\n",
              "    <tr>\n",
              "      <th>93</th>\n",
              "      <td>vampire</td>\n",
              "      <td>1</td>\n",
              "      <td>1</td>\n",
              "      <td>True</td>\n",
              "    </tr>\n",
              "    <tr>\n",
              "      <th>49</th>\n",
              "      <td>mole</td>\n",
              "      <td>1</td>\n",
              "      <td>1</td>\n",
              "      <td>True</td>\n",
              "    </tr>\n",
              "    <tr>\n",
              "      <th>12</th>\n",
              "      <td>chub</td>\n",
              "      <td>4</td>\n",
              "      <td>4</td>\n",
              "      <td>True</td>\n",
              "    </tr>\n",
              "    <tr>\n",
              "      <th>31</th>\n",
              "      <td>goat</td>\n",
              "      <td>1</td>\n",
              "      <td>1</td>\n",
              "      <td>True</td>\n",
              "    </tr>\n",
              "    <tr>\n",
              "      <th>76</th>\n",
              "      <td>seasnake</td>\n",
              "      <td>3</td>\n",
              "      <td>3</td>\n",
              "      <td>True</td>\n",
              "    </tr>\n",
              "    <tr>\n",
              "      <th>77</th>\n",
              "      <td>seawasp</td>\n",
              "      <td>4</td>\n",
              "      <td>7</td>\n",
              "      <td>False</td>\n",
              "    </tr>\n",
              "    <tr>\n",
              "      <th>65</th>\n",
              "      <td>pony</td>\n",
              "      <td>1</td>\n",
              "      <td>1</td>\n",
              "      <td>True</td>\n",
              "    </tr>\n",
              "    <tr>\n",
              "      <th>14</th>\n",
              "      <td>crab</td>\n",
              "      <td>5</td>\n",
              "      <td>7</td>\n",
              "      <td>False</td>\n",
              "    </tr>\n",
              "    <tr>\n",
              "      <th>51</th>\n",
              "      <td>moth</td>\n",
              "      <td>6</td>\n",
              "      <td>6</td>\n",
              "      <td>True</td>\n",
              "    </tr>\n",
              "    <tr>\n",
              "      <th>22</th>\n",
              "      <td>elephant</td>\n",
              "      <td>1</td>\n",
              "      <td>1</td>\n",
              "      <td>True</td>\n",
              "    </tr>\n",
              "  </tbody>\n",
              "</table>\n",
              "</div>"
            ],
            "text/plain": [
              "         Name  Predict_Type  Origin_Type  Correct\n",
              "100      wren             2            2     True\n",
              "58    penguin             2            2     True\n",
              "43       lark             2            2     True\n",
              "21       duck             2            2     True\n",
              "10    cheetah             1            1     True\n",
              "40   housefly             6            6     True\n",
              "50   mongoose             1            1     True\n",
              "4        boar             1            1     True\n",
              "87       swan             2            2     True\n",
              "80   slowworm             3            3     True\n",
              "70   reindeer             1            1     True\n",
              "37       hawk             2            2     True\n",
              "7        carp             4            4     True\n",
              "44    leopard             1            1     True\n",
              "53    octopus             0            7     True\n",
              "60       pike             4            4     True\n",
              "84   squirrel             1            1     True\n",
              "47       lynx             1            1     True\n",
              "94       vole             1            1     True\n",
              "89       toad             5            5     True\n",
              "92       tuna             4            4     True\n",
              "93    vampire             1            1     True\n",
              "49       mole             1            1     True\n",
              "12       chub             4            4     True\n",
              "31       goat             1            1     True\n",
              "76   seasnake             3            3     True\n",
              "77    seawasp             4            7    False\n",
              "65       pony             1            1     True\n",
              "14       crab             5            7    False\n",
              "51       moth             6            6     True\n",
              "22   elephant             1            1     True"
            ]
          },
          "execution_count": 94,
          "metadata": {},
          "output_type": "execute_result"
        }
      ],
      "source": [
        "sub = pd.DataFrame()\n",
        "sub['Name'] = test_name\n",
        "sub['Predict_Type'] = test_predict\n",
        "sub['Origin_Type'] = test_y\n",
        "sub['Correct'] = test_correct\n",
        "sub"
      ]
    },
    {
      "cell_type": "code",
      "execution_count": 95,
      "metadata": {
        "colab": {
          "base_uri": "https://localhost:8080/",
          "height": 467
        },
        "id": "0qu4z6VSTe8S",
        "outputId": "b78d7bd5-fcb7-4bf8-cf6a-13c1e17cdfb4"
      },
      "outputs": [
        {
          "data": {
            "text/plain": [
              "<Axes: xlabel='Correct', ylabel='count'>"
            ]
          },
          "execution_count": 95,
          "metadata": {},
          "output_type": "execute_result"
        },
        {
          "data": {
            "image/png": "[encoded data removed]",
            "text/plain": [
              "<Figure size 640x480 with 1 Axes>"
            ]
          },
          "metadata": {},
          "output_type": "display_data"
        }
      ],
      "source": [
        "sns.countplot(sub, x=\"Correct\")"
      ]
    },
    {
      "cell_type": "code",
      "execution_count": 96,
      "metadata": {
        "colab": {
          "base_uri": "https://localhost:8080/"
        },
        "id": "bKcoiKLwTe8S",
        "outputId": "bd798da2-1d71-499b-b48c-23fe0a150a1c"
      },
      "outputs": [
        {
          "data": {
            "text/plain": [
              "Correct\n",
              "True     29\n",
              "False     2\n",
              "Name: count, dtype: int64"
            ]
          },
          "execution_count": 96,
          "metadata": {},
          "output_type": "execute_result"
        }
      ],
      "source": [
        "sub['Correct'].value_counts()"
      ]
    },
    {
      "cell_type": "code",
      "execution_count": null,
      "metadata": {
        "id": "N07oatOrTe8S"
      },
      "outputs": [],
      "source": []
    },
    {
      "cell_type": "code",
      "execution_count": null,
      "metadata": {
        "id": "iTdV6dySTe8S"
      },
      "outputs": [],
      "source": []
    }
  ],
  "metadata": {
    "accelerator": "GPU",
    "colab": {
      "gpuType": "T4",
      "provenance": []
    },
    "kernelspec": {
      "display_name": "Python 3",
      "name": "python3"
    },
    "language_info": {
      "codemirror_mode": {
        "name": "ipython",
        "version": 3
      },
      "file_extension": ".py",
      "mimetype": "text/x-python",
      "name": "python",
      "nbconvert_exporter": "python",
      "pygments_lexer": "ipython3",
      "version": "3.11.5"
    }
  },
  "nbformat": 4,
  "nbformat_minor": 0
}
