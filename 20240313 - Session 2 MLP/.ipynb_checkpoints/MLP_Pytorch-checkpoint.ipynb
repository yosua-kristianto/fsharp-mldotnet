{
 "cells": [
  {
   "cell_type": "code",
   "execution_count": 1,
   "metadata": {},
   "outputs": [],
   "source": [
    "import pandas as pd\n",
    "import numpy as np\n",
    "import warnings\n",
    "warnings.filterwarnings('ignore')"
   ]
  },
  {
   "cell_type": "code",
   "execution_count": 2,
   "metadata": {},
   "outputs": [],
   "source": [
    "df=pd.read_csv('Customers.csv')"
   ]
  },
  {
   "cell_type": "code",
   "execution_count": 3,
   "metadata": {},
   "outputs": [
    {
     "data": {
      "text/html": [
       "<div>\n",
       "<style scoped>\n",
       "    .dataframe tbody tr th:only-of-type {\n",
       "        vertical-align: middle;\n",
       "    }\n",
       "\n",
       "    .dataframe tbody tr th {\n",
       "        vertical-align: top;\n",
       "    }\n",
       "\n",
       "    .dataframe thead th {\n",
       "        text-align: right;\n",
       "    }\n",
       "</style>\n",
       "<table border=\"1\" class=\"dataframe\">\n",
       "  <thead>\n",
       "    <tr style=\"text-align: right;\">\n",
       "      <th></th>\n",
       "      <th>CustomerID</th>\n",
       "      <th>Gender</th>\n",
       "      <th>Age</th>\n",
       "      <th>Annual Income ($)</th>\n",
       "      <th>Spending Score (1-100)</th>\n",
       "      <th>Profession</th>\n",
       "      <th>Work Experience</th>\n",
       "      <th>Family Size</th>\n",
       "    </tr>\n",
       "  </thead>\n",
       "  <tbody>\n",
       "    <tr>\n",
       "      <th>0</th>\n",
       "      <td>1</td>\n",
       "      <td>Male</td>\n",
       "      <td>19</td>\n",
       "      <td>15000</td>\n",
       "      <td>39</td>\n",
       "      <td>Healthcare</td>\n",
       "      <td>1</td>\n",
       "      <td>4</td>\n",
       "    </tr>\n",
       "    <tr>\n",
       "      <th>1</th>\n",
       "      <td>2</td>\n",
       "      <td>Male</td>\n",
       "      <td>21</td>\n",
       "      <td>35000</td>\n",
       "      <td>81</td>\n",
       "      <td>Engineer</td>\n",
       "      <td>3</td>\n",
       "      <td>3</td>\n",
       "    </tr>\n",
       "    <tr>\n",
       "      <th>2</th>\n",
       "      <td>3</td>\n",
       "      <td>Female</td>\n",
       "      <td>20</td>\n",
       "      <td>86000</td>\n",
       "      <td>6</td>\n",
       "      <td>Engineer</td>\n",
       "      <td>1</td>\n",
       "      <td>1</td>\n",
       "    </tr>\n",
       "    <tr>\n",
       "      <th>3</th>\n",
       "      <td>4</td>\n",
       "      <td>Female</td>\n",
       "      <td>23</td>\n",
       "      <td>59000</td>\n",
       "      <td>77</td>\n",
       "      <td>Lawyer</td>\n",
       "      <td>0</td>\n",
       "      <td>2</td>\n",
       "    </tr>\n",
       "    <tr>\n",
       "      <th>4</th>\n",
       "      <td>5</td>\n",
       "      <td>Female</td>\n",
       "      <td>31</td>\n",
       "      <td>38000</td>\n",
       "      <td>40</td>\n",
       "      <td>Entertainment</td>\n",
       "      <td>2</td>\n",
       "      <td>6</td>\n",
       "    </tr>\n",
       "  </tbody>\n",
       "</table>\n",
       "</div>"
      ],
      "text/plain": [
       "   CustomerID  Gender  Age  Annual Income ($)  Spending Score (1-100)  \\\n",
       "0           1    Male   19              15000                      39   \n",
       "1           2    Male   21              35000                      81   \n",
       "2           3  Female   20              86000                       6   \n",
       "3           4  Female   23              59000                      77   \n",
       "4           5  Female   31              38000                      40   \n",
       "\n",
       "      Profession  Work Experience  Family Size  \n",
       "0     Healthcare                1            4  \n",
       "1       Engineer                3            3  \n",
       "2       Engineer                1            1  \n",
       "3         Lawyer                0            2  \n",
       "4  Entertainment                2            6  "
      ]
     },
     "execution_count": 3,
     "metadata": {},
     "output_type": "execute_result"
    }
   ],
   "source": [
    "df.head()"
   ]
  },
  {
   "cell_type": "code",
   "execution_count": 4,
   "metadata": {
    "tags": []
   },
   "outputs": [
    {
     "data": {
      "text/plain": [
       "(2000, 8)"
      ]
     },
     "execution_count": 4,
     "metadata": {},
     "output_type": "execute_result"
    }
   ],
   "source": [
    "df.shape"
   ]
  },
  {
   "cell_type": "code",
   "execution_count": 5,
   "metadata": {},
   "outputs": [
    {
     "name": "stdout",
     "output_type": "stream",
     "text": [
      "<class 'pandas.core.frame.DataFrame'>\n",
      "RangeIndex: 2000 entries, 0 to 1999\n",
      "Data columns (total 8 columns):\n",
      " #   Column                  Non-Null Count  Dtype \n",
      "---  ------                  --------------  ----- \n",
      " 0   CustomerID              2000 non-null   int64 \n",
      " 1   Gender                  2000 non-null   object\n",
      " 2   Age                     2000 non-null   int64 \n",
      " 3   Annual Income ($)       2000 non-null   int64 \n",
      " 4   Spending Score (1-100)  2000 non-null   int64 \n",
      " 5   Profession              1965 non-null   object\n",
      " 6   Work Experience         2000 non-null   int64 \n",
      " 7   Family Size             2000 non-null   int64 \n",
      "dtypes: int64(6), object(2)\n",
      "memory usage: 125.1+ KB\n"
     ]
    }
   ],
   "source": [
    "df.info()"
   ]
  },
  {
   "cell_type": "code",
   "execution_count": 6,
   "metadata": {},
   "outputs": [
    {
     "data": {
      "text/plain": [
       "Profession\n",
       "Artist           612\n",
       "Healthcare       339\n",
       "Entertainment    234\n",
       "Engineer         179\n",
       "Doctor           161\n",
       "Executive        153\n",
       "Lawyer           142\n",
       "Marketing         85\n",
       "Homemaker         60\n",
       "Name: count, dtype: int64"
      ]
     },
     "execution_count": 6,
     "metadata": {},
     "output_type": "execute_result"
    }
   ],
   "source": [
    "df['Profession'].value_counts()"
   ]
  },
  {
   "cell_type": "code",
   "execution_count": 7,
   "metadata": {
    "tags": []
   },
   "outputs": [
    {
     "data": {
      "text/plain": [
       "Index(['CustomerID', 'Gender', 'Age', 'Annual Income ($)',\n",
       "       'Spending Score (1-100)', 'Profession', 'Work Experience',\n",
       "       'Family Size'],\n",
       "      dtype='object')"
      ]
     },
     "execution_count": 7,
     "metadata": {},
     "output_type": "execute_result"
    }
   ],
   "source": [
    "df.columns"
   ]
  },
  {
   "cell_type": "code",
   "execution_count": 8,
   "metadata": {},
   "outputs": [],
   "source": [
    "#prepare the data to take only numerical featrures and separate input and target\n",
    "df_input=df[['CustomerID', 'Gender', 'Age', 'Annual Income ($)', 'Profession', 'Work Experience','Family Size']]\n",
    "df_target=df[['Spending Score (1-100)']]\n",
    "\n",
    "#split training and testing data\n",
    "from sklearn.model_selection import train_test_split\n",
    "X_train, X_test, y_train, y_test = train_test_split(df_input, df_target, test_size=0.2, random_state=42)"
   ]
  },
  {
   "cell_type": "code",
   "execution_count": 9,
   "metadata": {},
   "outputs": [],
   "source": [
    "X_train['Profession'].fillna('others', inplace=True)\n",
    "X_test['Profession'].fillna('others', inplace=True)"
   ]
  },
  {
   "cell_type": "code",
   "execution_count": 10,
   "metadata": {},
   "outputs": [],
   "source": [
    "#encode non numeric data into numeric data\n",
    "#encode Gender\n",
    "train_encode={\"Gender\": {\"Male\":1,\"Female\" :0}}\n",
    "test_encode={\"Gender\": {\"Male\":1,\"Female\" :0}}\n",
    "\n",
    "#replace categorical value into numerical value\n",
    "X_train=X_train.replace(train_encode)\n",
    "X_test=X_test.replace(test_encode)\n"
   ]
  },
  {
   "cell_type": "code",
   "execution_count": 11,
   "metadata": {
    "tags": []
   },
   "outputs": [],
   "source": [
    "from sklearn.preprocessing import OneHotEncoder\n",
    "#encoded profession for training data\n",
    "x=X_train[['Profession']]\n",
    "train_encoded=OneHotEncoder()\n",
    "train_data=pd.DataFrame(train_encoded.fit_transform(x).toarray(),columns=train_encoded.get_feature_names_out())\n",
    "X_train=X_train.reset_index()\n",
    "X_train_enc=pd.concat([X_train,train_data], axis=1)\n",
    "\n"
   ]
  },
  {
   "cell_type": "code",
   "execution_count": 12,
   "metadata": {
    "tags": []
   },
   "outputs": [
    {
     "data": {
      "text/html": [
       "<div>\n",
       "<style scoped>\n",
       "    .dataframe tbody tr th:only-of-type {\n",
       "        vertical-align: middle;\n",
       "    }\n",
       "\n",
       "    .dataframe tbody tr th {\n",
       "        vertical-align: top;\n",
       "    }\n",
       "\n",
       "    .dataframe thead th {\n",
       "        text-align: right;\n",
       "    }\n",
       "</style>\n",
       "<table border=\"1\" class=\"dataframe\">\n",
       "  <thead>\n",
       "    <tr style=\"text-align: right;\">\n",
       "      <th></th>\n",
       "      <th>index</th>\n",
       "      <th>CustomerID</th>\n",
       "      <th>Gender</th>\n",
       "      <th>Age</th>\n",
       "      <th>Annual Income ($)</th>\n",
       "      <th>Profession</th>\n",
       "      <th>Work Experience</th>\n",
       "      <th>Family Size</th>\n",
       "      <th>Profession_Artist</th>\n",
       "      <th>Profession_Doctor</th>\n",
       "      <th>Profession_Engineer</th>\n",
       "      <th>Profession_Entertainment</th>\n",
       "      <th>Profession_Executive</th>\n",
       "      <th>Profession_Healthcare</th>\n",
       "      <th>Profession_Homemaker</th>\n",
       "      <th>Profession_Lawyer</th>\n",
       "      <th>Profession_Marketing</th>\n",
       "      <th>Profession_others</th>\n",
       "    </tr>\n",
       "  </thead>\n",
       "  <tbody>\n",
       "    <tr>\n",
       "      <th>0</th>\n",
       "      <td>968</td>\n",
       "      <td>969</td>\n",
       "      <td>1</td>\n",
       "      <td>32</td>\n",
       "      <td>186897</td>\n",
       "      <td>Healthcare</td>\n",
       "      <td>1</td>\n",
       "      <td>7</td>\n",
       "      <td>0.0</td>\n",
       "      <td>0.0</td>\n",
       "      <td>0.0</td>\n",
       "      <td>0.0</td>\n",
       "      <td>0.0</td>\n",
       "      <td>1.0</td>\n",
       "      <td>0.0</td>\n",
       "      <td>0.0</td>\n",
       "      <td>0.0</td>\n",
       "      <td>0.0</td>\n",
       "    </tr>\n",
       "    <tr>\n",
       "      <th>1</th>\n",
       "      <td>240</td>\n",
       "      <td>241</td>\n",
       "      <td>1</td>\n",
       "      <td>92</td>\n",
       "      <td>83000</td>\n",
       "      <td>Executive</td>\n",
       "      <td>1</td>\n",
       "      <td>5</td>\n",
       "      <td>0.0</td>\n",
       "      <td>0.0</td>\n",
       "      <td>0.0</td>\n",
       "      <td>0.0</td>\n",
       "      <td>1.0</td>\n",
       "      <td>0.0</td>\n",
       "      <td>0.0</td>\n",
       "      <td>0.0</td>\n",
       "      <td>0.0</td>\n",
       "      <td>0.0</td>\n",
       "    </tr>\n",
       "    <tr>\n",
       "      <th>2</th>\n",
       "      <td>819</td>\n",
       "      <td>820</td>\n",
       "      <td>0</td>\n",
       "      <td>19</td>\n",
       "      <td>117477</td>\n",
       "      <td>Healthcare</td>\n",
       "      <td>6</td>\n",
       "      <td>7</td>\n",
       "      <td>0.0</td>\n",
       "      <td>0.0</td>\n",
       "      <td>0.0</td>\n",
       "      <td>0.0</td>\n",
       "      <td>0.0</td>\n",
       "      <td>1.0</td>\n",
       "      <td>0.0</td>\n",
       "      <td>0.0</td>\n",
       "      <td>0.0</td>\n",
       "      <td>0.0</td>\n",
       "    </tr>\n",
       "    <tr>\n",
       "      <th>3</th>\n",
       "      <td>692</td>\n",
       "      <td>693</td>\n",
       "      <td>1</td>\n",
       "      <td>83</td>\n",
       "      <td>132005</td>\n",
       "      <td>Entertainment</td>\n",
       "      <td>0</td>\n",
       "      <td>5</td>\n",
       "      <td>0.0</td>\n",
       "      <td>0.0</td>\n",
       "      <td>0.0</td>\n",
       "      <td>1.0</td>\n",
       "      <td>0.0</td>\n",
       "      <td>0.0</td>\n",
       "      <td>0.0</td>\n",
       "      <td>0.0</td>\n",
       "      <td>0.0</td>\n",
       "      <td>0.0</td>\n",
       "    </tr>\n",
       "    <tr>\n",
       "      <th>4</th>\n",
       "      <td>420</td>\n",
       "      <td>421</td>\n",
       "      <td>1</td>\n",
       "      <td>89</td>\n",
       "      <td>122430</td>\n",
       "      <td>Healthcare</td>\n",
       "      <td>1</td>\n",
       "      <td>1</td>\n",
       "      <td>0.0</td>\n",
       "      <td>0.0</td>\n",
       "      <td>0.0</td>\n",
       "      <td>0.0</td>\n",
       "      <td>0.0</td>\n",
       "      <td>1.0</td>\n",
       "      <td>0.0</td>\n",
       "      <td>0.0</td>\n",
       "      <td>0.0</td>\n",
       "      <td>0.0</td>\n",
       "    </tr>\n",
       "  </tbody>\n",
       "</table>\n",
       "</div>"
      ],
      "text/plain": [
       "   index  CustomerID  Gender  Age  Annual Income ($)     Profession  \\\n",
       "0    968         969       1   32             186897     Healthcare   \n",
       "1    240         241       1   92              83000      Executive   \n",
       "2    819         820       0   19             117477     Healthcare   \n",
       "3    692         693       1   83             132005  Entertainment   \n",
       "4    420         421       1   89             122430     Healthcare   \n",
       "\n",
       "   Work Experience  Family Size  Profession_Artist  Profession_Doctor  \\\n",
       "0                1            7                0.0                0.0   \n",
       "1                1            5                0.0                0.0   \n",
       "2                6            7                0.0                0.0   \n",
       "3                0            5                0.0                0.0   \n",
       "4                1            1                0.0                0.0   \n",
       "\n",
       "   Profession_Engineer  Profession_Entertainment  Profession_Executive  \\\n",
       "0                  0.0                       0.0                   0.0   \n",
       "1                  0.0                       0.0                   1.0   \n",
       "2                  0.0                       0.0                   0.0   \n",
       "3                  0.0                       1.0                   0.0   \n",
       "4                  0.0                       0.0                   0.0   \n",
       "\n",
       "   Profession_Healthcare  Profession_Homemaker  Profession_Lawyer  \\\n",
       "0                    1.0                   0.0                0.0   \n",
       "1                    0.0                   0.0                0.0   \n",
       "2                    1.0                   0.0                0.0   \n",
       "3                    0.0                   0.0                0.0   \n",
       "4                    1.0                   0.0                0.0   \n",
       "\n",
       "   Profession_Marketing  Profession_others  \n",
       "0                   0.0                0.0  \n",
       "1                   0.0                0.0  \n",
       "2                   0.0                0.0  \n",
       "3                   0.0                0.0  \n",
       "4                   0.0                0.0  "
      ]
     },
     "execution_count": 12,
     "metadata": {},
     "output_type": "execute_result"
    }
   ],
   "source": [
    "X_train_enc.head()"
   ]
  },
  {
   "cell_type": "code",
   "execution_count": 13,
   "metadata": {
    "tags": []
   },
   "outputs": [],
   "source": [
    "#encoded profession for testing data\n",
    "y=X_test[['Profession']]\n",
    "test_data=pd.DataFrame(train_encoded.transform(y).toarray(),columns=train_encoded.get_feature_names_out())\n",
    "X_test=X_test.reset_index()\n",
    "X_test_enc=pd.concat([X_test,test_data], axis=1)"
   ]
  },
  {
   "cell_type": "code",
   "execution_count": 14,
   "metadata": {},
   "outputs": [
    {
     "data": {
      "text/html": [
       "<div>\n",
       "<style scoped>\n",
       "    .dataframe tbody tr th:only-of-type {\n",
       "        vertical-align: middle;\n",
       "    }\n",
       "\n",
       "    .dataframe tbody tr th {\n",
       "        vertical-align: top;\n",
       "    }\n",
       "\n",
       "    .dataframe thead th {\n",
       "        text-align: right;\n",
       "    }\n",
       "</style>\n",
       "<table border=\"1\" class=\"dataframe\">\n",
       "  <thead>\n",
       "    <tr style=\"text-align: right;\">\n",
       "      <th></th>\n",
       "      <th>index</th>\n",
       "      <th>CustomerID</th>\n",
       "      <th>Gender</th>\n",
       "      <th>Age</th>\n",
       "      <th>Annual Income ($)</th>\n",
       "      <th>Profession</th>\n",
       "      <th>Work Experience</th>\n",
       "      <th>Family Size</th>\n",
       "      <th>Profession_Artist</th>\n",
       "      <th>Profession_Doctor</th>\n",
       "      <th>Profession_Engineer</th>\n",
       "      <th>Profession_Entertainment</th>\n",
       "      <th>Profession_Executive</th>\n",
       "      <th>Profession_Healthcare</th>\n",
       "      <th>Profession_Homemaker</th>\n",
       "      <th>Profession_Lawyer</th>\n",
       "      <th>Profession_Marketing</th>\n",
       "      <th>Profession_others</th>\n",
       "    </tr>\n",
       "  </thead>\n",
       "  <tbody>\n",
       "    <tr>\n",
       "      <th>0</th>\n",
       "      <td>1860</td>\n",
       "      <td>1861</td>\n",
       "      <td>1</td>\n",
       "      <td>32</td>\n",
       "      <td>104494</td>\n",
       "      <td>Healthcare</td>\n",
       "      <td>6</td>\n",
       "      <td>4</td>\n",
       "      <td>0.0</td>\n",
       "      <td>0.0</td>\n",
       "      <td>0.0</td>\n",
       "      <td>0.0</td>\n",
       "      <td>0.0</td>\n",
       "      <td>1.0</td>\n",
       "      <td>0.0</td>\n",
       "      <td>0.0</td>\n",
       "      <td>0.0</td>\n",
       "      <td>0.0</td>\n",
       "    </tr>\n",
       "    <tr>\n",
       "      <th>1</th>\n",
       "      <td>353</td>\n",
       "      <td>354</td>\n",
       "      <td>1</td>\n",
       "      <td>23</td>\n",
       "      <td>181760</td>\n",
       "      <td>Healthcare</td>\n",
       "      <td>14</td>\n",
       "      <td>3</td>\n",
       "      <td>0.0</td>\n",
       "      <td>0.0</td>\n",
       "      <td>0.0</td>\n",
       "      <td>0.0</td>\n",
       "      <td>0.0</td>\n",
       "      <td>1.0</td>\n",
       "      <td>0.0</td>\n",
       "      <td>0.0</td>\n",
       "      <td>0.0</td>\n",
       "      <td>0.0</td>\n",
       "    </tr>\n",
       "    <tr>\n",
       "      <th>2</th>\n",
       "      <td>1333</td>\n",
       "      <td>1334</td>\n",
       "      <td>0</td>\n",
       "      <td>97</td>\n",
       "      <td>133614</td>\n",
       "      <td>Artist</td>\n",
       "      <td>7</td>\n",
       "      <td>4</td>\n",
       "      <td>1.0</td>\n",
       "      <td>0.0</td>\n",
       "      <td>0.0</td>\n",
       "      <td>0.0</td>\n",
       "      <td>0.0</td>\n",
       "      <td>0.0</td>\n",
       "      <td>0.0</td>\n",
       "      <td>0.0</td>\n",
       "      <td>0.0</td>\n",
       "      <td>0.0</td>\n",
       "    </tr>\n",
       "    <tr>\n",
       "      <th>3</th>\n",
       "      <td>905</td>\n",
       "      <td>906</td>\n",
       "      <td>0</td>\n",
       "      <td>66</td>\n",
       "      <td>118385</td>\n",
       "      <td>Healthcare</td>\n",
       "      <td>10</td>\n",
       "      <td>3</td>\n",
       "      <td>0.0</td>\n",
       "      <td>0.0</td>\n",
       "      <td>0.0</td>\n",
       "      <td>0.0</td>\n",
       "      <td>0.0</td>\n",
       "      <td>1.0</td>\n",
       "      <td>0.0</td>\n",
       "      <td>0.0</td>\n",
       "      <td>0.0</td>\n",
       "      <td>0.0</td>\n",
       "    </tr>\n",
       "    <tr>\n",
       "      <th>4</th>\n",
       "      <td>1289</td>\n",
       "      <td>1290</td>\n",
       "      <td>0</td>\n",
       "      <td>75</td>\n",
       "      <td>86297</td>\n",
       "      <td>Executive</td>\n",
       "      <td>9</td>\n",
       "      <td>4</td>\n",
       "      <td>0.0</td>\n",
       "      <td>0.0</td>\n",
       "      <td>0.0</td>\n",
       "      <td>0.0</td>\n",
       "      <td>1.0</td>\n",
       "      <td>0.0</td>\n",
       "      <td>0.0</td>\n",
       "      <td>0.0</td>\n",
       "      <td>0.0</td>\n",
       "      <td>0.0</td>\n",
       "    </tr>\n",
       "  </tbody>\n",
       "</table>\n",
       "</div>"
      ],
      "text/plain": [
       "   index  CustomerID  Gender  Age  Annual Income ($)  Profession  \\\n",
       "0   1860        1861       1   32             104494  Healthcare   \n",
       "1    353         354       1   23             181760  Healthcare   \n",
       "2   1333        1334       0   97             133614      Artist   \n",
       "3    905         906       0   66             118385  Healthcare   \n",
       "4   1289        1290       0   75              86297   Executive   \n",
       "\n",
       "   Work Experience  Family Size  Profession_Artist  Profession_Doctor  \\\n",
       "0                6            4                0.0                0.0   \n",
       "1               14            3                0.0                0.0   \n",
       "2                7            4                1.0                0.0   \n",
       "3               10            3                0.0                0.0   \n",
       "4                9            4                0.0                0.0   \n",
       "\n",
       "   Profession_Engineer  Profession_Entertainment  Profession_Executive  \\\n",
       "0                  0.0                       0.0                   0.0   \n",
       "1                  0.0                       0.0                   0.0   \n",
       "2                  0.0                       0.0                   0.0   \n",
       "3                  0.0                       0.0                   0.0   \n",
       "4                  0.0                       0.0                   1.0   \n",
       "\n",
       "   Profession_Healthcare  Profession_Homemaker  Profession_Lawyer  \\\n",
       "0                    1.0                   0.0                0.0   \n",
       "1                    1.0                   0.0                0.0   \n",
       "2                    0.0                   0.0                0.0   \n",
       "3                    1.0                   0.0                0.0   \n",
       "4                    0.0                   0.0                0.0   \n",
       "\n",
       "   Profession_Marketing  Profession_others  \n",
       "0                   0.0                0.0  \n",
       "1                   0.0                0.0  \n",
       "2                   0.0                0.0  \n",
       "3                   0.0                0.0  \n",
       "4                   0.0                0.0  "
      ]
     },
     "execution_count": 14,
     "metadata": {},
     "output_type": "execute_result"
    }
   ],
   "source": [
    "X_test_enc.head()"
   ]
  },
  {
   "cell_type": "code",
   "execution_count": 15,
   "metadata": {
    "tags": []
   },
   "outputs": [
    {
     "data": {
      "text/plain": [
       "Index(['index', 'CustomerID', 'Gender', 'Age', 'Annual Income ($)',\n",
       "       'Profession', 'Work Experience', 'Family Size', 'Profession_Artist',\n",
       "       'Profession_Doctor', 'Profession_Engineer', 'Profession_Entertainment',\n",
       "       'Profession_Executive', 'Profession_Healthcare', 'Profession_Homemaker',\n",
       "       'Profession_Lawyer', 'Profession_Marketing', 'Profession_others'],\n",
       "      dtype='object')"
      ]
     },
     "execution_count": 15,
     "metadata": {},
     "output_type": "execute_result"
    }
   ],
   "source": [
    "X_train_enc.columns"
   ]
  },
  {
   "cell_type": "code",
   "execution_count": 16,
   "metadata": {
    "tags": []
   },
   "outputs": [
    {
     "name": "stdout",
     "output_type": "stream",
     "text": [
      "<class 'pandas.core.frame.DataFrame'>\n",
      "RangeIndex: 1600 entries, 0 to 1599\n",
      "Data columns (total 18 columns):\n",
      " #   Column                    Non-Null Count  Dtype  \n",
      "---  ------                    --------------  -----  \n",
      " 0   index                     1600 non-null   int64  \n",
      " 1   CustomerID                1600 non-null   int64  \n",
      " 2   Gender                    1600 non-null   int64  \n",
      " 3   Age                       1600 non-null   int64  \n",
      " 4   Annual Income ($)         1600 non-null   int64  \n",
      " 5   Profession                1600 non-null   object \n",
      " 6   Work Experience           1600 non-null   int64  \n",
      " 7   Family Size               1600 non-null   int64  \n",
      " 8   Profession_Artist         1600 non-null   float64\n",
      " 9   Profession_Doctor         1600 non-null   float64\n",
      " 10  Profession_Engineer       1600 non-null   float64\n",
      " 11  Profession_Entertainment  1600 non-null   float64\n",
      " 12  Profession_Executive      1600 non-null   float64\n",
      " 13  Profession_Healthcare     1600 non-null   float64\n",
      " 14  Profession_Homemaker      1600 non-null   float64\n",
      " 15  Profession_Lawyer         1600 non-null   float64\n",
      " 16  Profession_Marketing      1600 non-null   float64\n",
      " 17  Profession_others         1600 non-null   float64\n",
      "dtypes: float64(10), int64(7), object(1)\n",
      "memory usage: 225.1+ KB\n"
     ]
    }
   ],
   "source": [
    "X_train_enc.info()"
   ]
  },
  {
   "cell_type": "code",
   "execution_count": 17,
   "metadata": {
    "tags": []
   },
   "outputs": [],
   "source": [
    "X_train_enc=X_train_enc[['Gender', 'Age', 'Annual Income ($)','Work Experience', 'Family Size', 'Profession_Artist',\n",
    "                         'Profession_Doctor', 'Profession_Engineer', 'Profession_Entertainment',\n",
    "                         'Profession_Executive', 'Profession_Healthcare', 'Profession_Homemaker',\n",
    "                         'Profession_Lawyer', 'Profession_Marketing', 'Profession_others']]\n",
    "X_test_enc=X_test_enc[['Gender', 'Age', 'Annual Income ($)','Work Experience', 'Family Size', 'Profession_Artist',\n",
    "                         'Profession_Doctor', 'Profession_Engineer', 'Profession_Entertainment',\n",
    "                         'Profession_Executive', 'Profession_Healthcare', 'Profession_Homemaker',\n",
    "                         'Profession_Lawyer', 'Profession_Marketing', 'Profession_others']]"
   ]
  },
  {
   "cell_type": "code",
   "execution_count": 18,
   "metadata": {},
   "outputs": [
    {
     "name": "stderr",
     "output_type": "stream",
     "text": [
      "2024-02-28 09:08:09.496180: I tensorflow/core/platform/cpu_feature_guard.cc:182] This TensorFlow binary is optimized to use available CPU instructions in performance-critical operations.\n",
      "To enable the following instructions: AVX2 FMA, in other operations, rebuild TensorFlow with the appropriate compiler flags.\n"
     ]
    },
    {
     "name": "stdout",
     "output_type": "stream",
     "text": [
      "Model: \"sequential\"\n",
      "_________________________________________________________________\n",
      " Layer (type)                Output Shape              Param #   \n",
      "=================================================================\n",
      " dense (Dense)               (None, 16)                256       \n",
      "                                                                 \n",
      " dense_1 (Dense)             (None, 15)                255       \n",
      "                                                                 \n",
      " dense_2 (Dense)             (None, 1)                 16        \n",
      "                                                                 \n",
      "=================================================================\n",
      "Total params: 527 (2.06 KB)\n",
      "Trainable params: 527 (2.06 KB)\n",
      "Non-trainable params: 0 (0.00 Byte)\n",
      "_________________________________________________________________\n",
      "None\n"
     ]
    }
   ],
   "source": [
    "import keras\n",
    "from tensorflow.keras.models import Sequential\n",
    "import tensorflow as tf\n",
    "model = keras.models.Sequential()\n",
    "model.add(tf.keras.Input(shape=(15,)))\n",
    "#Dense implements the operation: output = activation(dot(input, kernel) + bias)\n",
    "model.add(keras.layers.Dense(16, activation='sigmoid'))\n",
    "model.add(keras.layers.Dense(15, activation='sigmoid'))\n",
    "model.add(keras.layers.Dense(1,   activation='sigmoid'))\n",
    "model.compile(optimizer=\"sgd\",loss='mse',metrics=['mse', 'mae', 'mape'])\n",
    "print(model.summary())\n"
   ]
  },
  {
   "cell_type": "code",
   "execution_count": 19,
   "metadata": {},
   "outputs": [
    {
     "name": "stdout",
     "output_type": "stream",
     "text": [
      "Epoch 1/20\n",
      "50/50 - 1s - loss: 3280.2715 - mse: 3280.2715 - mae: 49.9724 - mape: 1101299.0000 - 759ms/epoch - 15ms/step\n",
      "Epoch 2/20\n",
      "50/50 - 0s - loss: 3277.6191 - mse: 3277.6191 - mae: 49.9476 - mape: 1248067.8750 - 115ms/epoch - 2ms/step\n",
      "Epoch 3/20\n",
      "50/50 - 0s - loss: 3277.5349 - mse: 3277.5349 - mae: 49.9467 - mape: 1248647.2500 - 100ms/epoch - 2ms/step\n",
      "Epoch 4/20\n",
      "50/50 - 0s - loss: 3277.5010 - mse: 3277.5010 - mae: 49.9464 - mape: 1249055.5000 - 111ms/epoch - 2ms/step\n",
      "Epoch 5/20\n",
      "50/50 - 0s - loss: 3277.4834 - mse: 3277.4834 - mae: 49.9462 - mape: 1249404.1250 - 113ms/epoch - 2ms/step\n",
      "Epoch 6/20\n",
      "50/50 - 0s - loss: 3277.4724 - mse: 3277.4724 - mae: 49.9461 - mape: 1249531.8750 - 116ms/epoch - 2ms/step\n",
      "Epoch 7/20\n",
      "50/50 - 0s - loss: 3277.4641 - mse: 3277.4641 - mae: 49.9460 - mape: 1249564.5000 - 105ms/epoch - 2ms/step\n",
      "Epoch 8/20\n",
      "50/50 - 0s - loss: 3277.4580 - mse: 3277.4580 - mae: 49.9460 - mape: 1249662.1250 - 106ms/epoch - 2ms/step\n",
      "Epoch 9/20\n",
      "50/50 - 0s - loss: 3277.4551 - mse: 3277.4551 - mae: 49.9459 - mape: 1249710.6250 - 106ms/epoch - 2ms/step\n",
      "Epoch 10/20\n",
      "50/50 - 0s - loss: 3277.4517 - mse: 3277.4517 - mae: 49.9459 - mape: 1249744.8750 - 126ms/epoch - 3ms/step\n",
      "Epoch 11/20\n",
      "50/50 - 0s - loss: 3277.4487 - mse: 3277.4487 - mae: 49.9459 - mape: 1249789.3750 - 312ms/epoch - 6ms/step\n",
      "Epoch 12/20\n",
      "50/50 - 0s - loss: 3277.4453 - mse: 3277.4453 - mae: 49.9459 - mape: 1249815.2500 - 292ms/epoch - 6ms/step\n",
      "Epoch 13/20\n",
      "50/50 - 0s - loss: 3277.4431 - mse: 3277.4431 - mae: 49.9459 - mape: 1249841.8750 - 132ms/epoch - 3ms/step\n",
      "Epoch 14/20\n",
      "50/50 - 0s - loss: 3277.4419 - mse: 3277.4419 - mae: 49.9458 - mape: 1249858.3750 - 140ms/epoch - 3ms/step\n",
      "Epoch 15/20\n",
      "50/50 - 0s - loss: 3277.4407 - mse: 3277.4407 - mae: 49.9458 - mape: 1249876.3750 - 193ms/epoch - 4ms/step\n",
      "Epoch 16/20\n",
      "50/50 - 0s - loss: 3277.4390 - mse: 3277.4390 - mae: 49.9458 - mape: 1249887.5000 - 185ms/epoch - 4ms/step\n",
      "Epoch 17/20\n",
      "50/50 - 0s - loss: 3277.4390 - mse: 3277.4390 - mae: 49.9458 - mape: 1249899.8750 - 265ms/epoch - 5ms/step\n",
      "Epoch 18/20\n",
      "50/50 - 0s - loss: 3277.4387 - mse: 3277.4387 - mae: 49.9458 - mape: 1249909.8750 - 186ms/epoch - 4ms/step\n",
      "Epoch 19/20\n",
      "50/50 - 0s - loss: 3277.4377 - mse: 3277.4377 - mae: 49.9458 - mape: 1249921.0000 - 167ms/epoch - 3ms/step\n",
      "Epoch 20/20\n",
      "50/50 - 0s - loss: 3277.4375 - mse: 3277.4375 - mae: 49.9458 - mape: 1249933.6250 - 389ms/epoch - 8ms/step\n"
     ]
    },
    {
     "data": {
      "text/plain": [
       "<keras.src.callbacks.History at 0x15d83ef10>"
      ]
     },
     "execution_count": 19,
     "metadata": {},
     "output_type": "execute_result"
    }
   ],
   "source": [
    "model.fit(X_train_enc, y_train, epochs=20, verbose=2)"
   ]
  },
  {
   "cell_type": "code",
   "execution_count": 20,
   "metadata": {},
   "outputs": [
    {
     "name": "stdout",
     "output_type": "stream",
     "text": [
      "50/50 [==============================] - 0s 2ms/step\n"
     ]
    }
   ],
   "source": [
    "train_result=model.predict(X_train_enc)"
   ]
  },
  {
   "cell_type": "code",
   "execution_count": 21,
   "metadata": {},
   "outputs": [
    {
     "name": "stdout",
     "output_type": "stream",
     "text": [
      "13/13 [==============================] - 0s 3ms/step\n"
     ]
    }
   ],
   "source": [
    "test_result=model.predict(X_test_enc)"
   ]
  },
  {
   "cell_type": "code",
   "execution_count": 22,
   "metadata": {
    "tags": []
   },
   "outputs": [
    {
     "name": "stdout",
     "output_type": "stream",
     "text": [
      "R2 train:  -810663319268.8857\n",
      "error_train:  49.945752460844815\n",
      "R2 test:  -9.208038864253876e+17\n",
      "error_test:  50.040125527381896\n"
     ]
    }
   ],
   "source": [
    "#calculate error for training and testing\n",
    "from sklearn import metrics\n",
    "from sklearn.metrics import r2_score\n",
    "print(\"R2 train: \",r2_score(train_result,y_train))\n",
    "print(\"error_train: \",metrics.mean_absolute_error(train_result,y_train))\n",
    "\n",
    "print(\"R2 test: \",r2_score(test_result,y_test))\n",
    "print(\"error_test: \",metrics.mean_absolute_error(test_result,y_test))"
   ]
  },
  {
   "cell_type": "code",
   "execution_count": null,
   "metadata": {},
   "outputs": [],
   "source": []
  }
 ],
 "metadata": {
  "kernelspec": {
   "display_name": "Python 3 (ipykernel)",
   "language": "python",
   "name": "python3"
  },
  "language_info": {
   "codemirror_mode": {
    "name": "ipython",
    "version": 3
   },
   "file_extension": ".py",
   "mimetype": "text/x-python",
   "name": "python",
   "nbconvert_exporter": "python",
   "pygments_lexer": "ipython3",
   "version": "3.11.4"
  }
 },
 "nbformat": 4,
 "nbformat_minor": 4
}
