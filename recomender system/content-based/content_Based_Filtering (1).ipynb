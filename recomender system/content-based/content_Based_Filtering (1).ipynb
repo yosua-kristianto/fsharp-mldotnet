{
  "cells": [
    {
      "cell_type": "code",
      "execution_count": 1,
      "metadata": {
        "colab": {
          "base_uri": "https://localhost:8080/"
        },
        "id": "3qU5QFf1rzbW",
        "outputId": "6692f933-410f-4ae2-a2c0-f29bc3ae1df2"
      },
      "outputs": [
        {
          "name": "stdout",
          "output_type": "stream",
          "text": [
            "Mounted at /content/drive\n"
          ]
        }
      ],
      "source": [
        "from google.colab import drive"
      ]
    },
    {
      "cell_type": "code",
      "execution_count": 2,
      "metadata": {
        "colab": {
          "base_uri": "https://localhost:8080/",
          "height": 206
        },
        "id": "DvrVozf_rqDr",
        "outputId": "cf5b6aa1-132a-4273-aa72-d310f6fab950"
      },
      "outputs": [
        {
          "data": {
            "text/html": [
              "\n",
              "  <div id=\"df-695c5289-02cf-40e3-a27e-17c32be6cfa7\" class=\"colab-df-container\">\n",
              "    <div>\n",
              "<style scoped>\n",
              "    .dataframe tbody tr th:only-of-type {\n",
              "        vertical-align: middle;\n",
              "    }\n",
              "\n",
              "    .dataframe tbody tr th {\n",
              "        vertical-align: top;\n",
              "    }\n",
              "\n",
              "    .dataframe thead th {\n",
              "        text-align: right;\n",
              "    }\n",
              "</style>\n",
              "<table border=\"1\" class=\"dataframe\">\n",
              "  <thead>\n",
              "    <tr style=\"text-align: right;\">\n",
              "      <th></th>\n",
              "      <th>name</th>\n",
              "      <th>address</th>\n",
              "      <th>description</th>\n",
              "    </tr>\n",
              "  </thead>\n",
              "  <tbody>\n",
              "    <tr>\n",
              "      <th>0</th>\n",
              "      <td>Capital O 253 Topas Galeria Hotel</td>\n",
              "      <td>Jl. Dr. Djundjunan No. 153, 40173 Bandung, Ind...</td>\n",
              "      <td>A 10-minute drive from Bandung Airport, Topas ...</td>\n",
              "    </tr>\n",
              "    <tr>\n",
              "      <th>1</th>\n",
              "      <td>Sheraton Bandung Hotel &amp; Towers</td>\n",
              "      <td>Jl. Ir H Juanda 390, 40135 Bandung, Indonesia</td>\n",
              "      <td>Sheraton Hotel &amp; Towers offers 5-star accommod...</td>\n",
              "    </tr>\n",
              "    <tr>\n",
              "      <th>2</th>\n",
              "      <td>OYO 794 Ln 9 Bandung Residence</td>\n",
              "      <td>Jalan Lemahnendeut No 9, Sukajadi, 40164 Bandu...</td>\n",
              "      <td>Conveniently located in Sukajadi, Bandung, OYO...</td>\n",
              "    </tr>\n",
              "    <tr>\n",
              "      <th>3</th>\n",
              "      <td>OYO 226 LJ hotel</td>\n",
              "      <td>Jl. Malabar No.2, Malabar, Lengkong, Dago, Asi...</td>\n",
              "      <td>Featuring a shared lounge, OYO 226 LJ hotel is...</td>\n",
              "    </tr>\n",
              "    <tr>\n",
              "      <th>4</th>\n",
              "      <td>OYO 230 Maleo Residence</td>\n",
              "      <td>JI. Dangeur Indah II No. 15, Sukagalih, Sukaja...</td>\n",
              "      <td>Attractively set in the Sukajadi district of B...</td>\n",
              "    </tr>\n",
              "  </tbody>\n",
              "</table>\n",
              "</div>\n",
              "    <div class=\"colab-df-buttons\">\n",
              "\n",
              "  <div class=\"colab-df-container\">\n",
              "    <button class=\"colab-df-convert\" onclick=\"convertToInteractive('df-695c5289-02cf-40e3-a27e-17c32be6cfa7')\"\n",
              "            title=\"Convert this dataframe to an interactive table.\"\n",
              "            style=\"display:none;\">\n",
              "\n",
              "  <svg xmlns=\"http://www.w3.org/2000/svg\" height=\"24px\" viewBox=\"0 -960 960 960\">\n",
              "    <path d=\"M120-120v-720h720v720H120Zm60-500h600v-160H180v160Zm220 220h160v-160H400v160Zm0 220h160v-160H400v160ZM180-400h160v-160H180v160Zm440 0h160v-160H620v160ZM180-180h160v-160H180v160Zm440 0h160v-160H620v160Z\"/>\n",
              "  </svg>\n",
              "    </button>\n",
              "\n",
              "  <style>\n",
              "    .colab-df-container {\n",
              "      display:flex;\n",
              "      gap: 12px;\n",
              "    }\n",
              "\n",
              "    .colab-df-convert {\n",
              "      background-color: #E8F0FE;\n",
              "      border: none;\n",
              "      border-radius: 50%;\n",
              "      cursor: pointer;\n",
              "      display: none;\n",
              "      fill: #1967D2;\n",
              "      height: 32px;\n",
              "      padding: 0 0 0 0;\n",
              "      width: 32px;\n",
              "    }\n",
              "\n",
              "    .colab-df-convert:hover {\n",
              "      background-color: #E2EBFA;\n",
              "      box-shadow: 0px 1px 2px rgba(60, 64, 67, 0.3), 0px 1px 3px 1px rgba(60, 64, 67, 0.15);\n",
              "      fill: #174EA6;\n",
              "    }\n",
              "\n",
              "    .colab-df-buttons div {\n",
              "      margin-bottom: 4px;\n",
              "    }\n",
              "\n",
              "    [theme=dark] .colab-df-convert {\n",
              "      background-color: #3B4455;\n",
              "      fill: #D2E3FC;\n",
              "    }\n",
              "\n",
              "    [theme=dark] .colab-df-convert:hover {\n",
              "      background-color: #434B5C;\n",
              "      box-shadow: 0px 1px 3px 1px rgba(0, 0, 0, 0.15);\n",
              "      filter: drop-shadow(0px 1px 2px rgba(0, 0, 0, 0.3));\n",
              "      fill: #FFFFFF;\n",
              "    }\n",
              "  </style>\n",
              "\n",
              "    <script>\n",
              "      const buttonEl =\n",
              "        document.querySelector('#df-695c5289-02cf-40e3-a27e-17c32be6cfa7 button.colab-df-convert');\n",
              "      buttonEl.style.display =\n",
              "        google.colab.kernel.accessAllowed ? 'block' : 'none';\n",
              "\n",
              "      async function convertToInteractive(key) {\n",
              "        const element = document.querySelector('#df-695c5289-02cf-40e3-a27e-17c32be6cfa7');\n",
              "        const dataTable =\n",
              "          await google.colab.kernel.invokeFunction('convertToInteractive',\n",
              "                                                    [key], {});\n",
              "        if (!dataTable) return;\n",
              "\n",
              "        const docLinkHtml = 'Like what you see? Visit the ' +\n",
              "          '<a target=\"_blank\" href=https://colab.research.google.com/notebooks/data_table.ipynb>data table notebook</a>'\n",
              "          + ' to learn more about interactive tables.';\n",
              "        element.innerHTML = '';\n",
              "        dataTable['output_type'] = 'display_data';\n",
              "        await google.colab.output.renderOutput(dataTable, element);\n",
              "        const docLink = document.createElement('div');\n",
              "        docLink.innerHTML = docLinkHtml;\n",
              "        element.appendChild(docLink);\n",
              "      }\n",
              "    </script>\n",
              "  </div>\n",
              "\n",
              "\n",
              "<div id=\"df-d7872bd9-a5b7-477d-811e-96d1ce83e4db\">\n",
              "  <button class=\"colab-df-quickchart\" onclick=\"quickchart('df-d7872bd9-a5b7-477d-811e-96d1ce83e4db')\"\n",
              "            title=\"Suggest charts\"\n",
              "            style=\"display:none;\">\n",
              "\n",
              "<svg xmlns=\"http://www.w3.org/2000/svg\" height=\"24px\"viewBox=\"0 0 24 24\"\n",
              "     width=\"24px\">\n",
              "    <g>\n",
              "        <path d=\"M19 3H5c-1.1 0-2 .9-2 2v14c0 1.1.9 2 2 2h14c1.1 0 2-.9 2-2V5c0-1.1-.9-2-2-2zM9 17H7v-7h2v7zm4 0h-2V7h2v10zm4 0h-2v-4h2v4z\"/>\n",
              "    </g>\n",
              "</svg>\n",
              "  </button>\n",
              "\n",
              "<style>\n",
              "  .colab-df-quickchart {\n",
              "      --bg-color: #E8F0FE;\n",
              "      --fill-color: #1967D2;\n",
              "      --hover-bg-color: #E2EBFA;\n",
              "      --hover-fill-color: #174EA6;\n",
              "      --disabled-fill-color: #AAA;\n",
              "      --disabled-bg-color: #DDD;\n",
              "  }\n",
              "\n",
              "  [theme=dark] .colab-df-quickchart {\n",
              "      --bg-color: #3B4455;\n",
              "      --fill-color: #D2E3FC;\n",
              "      --hover-bg-color: #434B5C;\n",
              "      --hover-fill-color: #FFFFFF;\n",
              "      --disabled-bg-color: #3B4455;\n",
              "      --disabled-fill-color: #666;\n",
              "  }\n",
              "\n",
              "  .colab-df-quickchart {\n",
              "    background-color: var(--bg-color);\n",
              "    border: none;\n",
              "    border-radius: 50%;\n",
              "    cursor: pointer;\n",
              "    display: none;\n",
              "    fill: var(--fill-color);\n",
              "    height: 32px;\n",
              "    padding: 0;\n",
              "    width: 32px;\n",
              "  }\n",
              "\n",
              "  .colab-df-quickchart:hover {\n",
              "    background-color: var(--hover-bg-color);\n",
              "    box-shadow: 0 1px 2px rgba(60, 64, 67, 0.3), 0 1px 3px 1px rgba(60, 64, 67, 0.15);\n",
              "    fill: var(--button-hover-fill-color);\n",
              "  }\n",
              "\n",
              "  .colab-df-quickchart-complete:disabled,\n",
              "  .colab-df-quickchart-complete:disabled:hover {\n",
              "    background-color: var(--disabled-bg-color);\n",
              "    fill: var(--disabled-fill-color);\n",
              "    box-shadow: none;\n",
              "  }\n",
              "\n",
              "  .colab-df-spinner {\n",
              "    border: 2px solid var(--fill-color);\n",
              "    border-color: transparent;\n",
              "    border-bottom-color: var(--fill-color);\n",
              "    animation:\n",
              "      spin 1s steps(1) infinite;\n",
              "  }\n",
              "\n",
              "  @keyframes spin {\n",
              "    0% {\n",
              "      border-color: transparent;\n",
              "      border-bottom-color: var(--fill-color);\n",
              "      border-left-color: var(--fill-color);\n",
              "    }\n",
              "    20% {\n",
              "      border-color: transparent;\n",
              "      border-left-color: var(--fill-color);\n",
              "      border-top-color: var(--fill-color);\n",
              "    }\n",
              "    30% {\n",
              "      border-color: transparent;\n",
              "      border-left-color: var(--fill-color);\n",
              "      border-top-color: var(--fill-color);\n",
              "      border-right-color: var(--fill-color);\n",
              "    }\n",
              "    40% {\n",
              "      border-color: transparent;\n",
              "      border-right-color: var(--fill-color);\n",
              "      border-top-color: var(--fill-color);\n",
              "    }\n",
              "    60% {\n",
              "      border-color: transparent;\n",
              "      border-right-color: var(--fill-color);\n",
              "    }\n",
              "    80% {\n",
              "      border-color: transparent;\n",
              "      border-right-color: var(--fill-color);\n",
              "      border-bottom-color: var(--fill-color);\n",
              "    }\n",
              "    90% {\n",
              "      border-color: transparent;\n",
              "      border-bottom-color: var(--fill-color);\n",
              "    }\n",
              "  }\n",
              "</style>\n",
              "\n",
              "  <script>\n",
              "    async function quickchart(key) {\n",
              "      const quickchartButtonEl =\n",
              "        document.querySelector('#' + key + ' button');\n",
              "      quickchartButtonEl.disabled = true;  // To prevent multiple clicks.\n",
              "      quickchartButtonEl.classList.add('colab-df-spinner');\n",
              "      try {\n",
              "        const charts = await google.colab.kernel.invokeFunction(\n",
              "            'suggestCharts', [key], {});\n",
              "      } catch (error) {\n",
              "        console.error('Error during call to suggestCharts:', error);\n",
              "      }\n",
              "      quickchartButtonEl.classList.remove('colab-df-spinner');\n",
              "      quickchartButtonEl.classList.add('colab-df-quickchart-complete');\n",
              "    }\n",
              "    (() => {\n",
              "      let quickchartButtonEl =\n",
              "        document.querySelector('#df-d7872bd9-a5b7-477d-811e-96d1ce83e4db button');\n",
              "      quickchartButtonEl.style.display =\n",
              "        google.colab.kernel.accessAllowed ? 'block' : 'none';\n",
              "    })();\n",
              "  </script>\n",
              "</div>\n",
              "    </div>\n",
              "  </div>\n"
            ],
            "text/plain": [
              "                                name  \\\n",
              "0  Capital O 253 Topas Galeria Hotel   \n",
              "1    Sheraton Bandung Hotel & Towers   \n",
              "2     OYO 794 Ln 9 Bandung Residence   \n",
              "3                   OYO 226 LJ hotel   \n",
              "4            OYO 230 Maleo Residence   \n",
              "\n",
              "                                             address  \\\n",
              "0  Jl. Dr. Djundjunan No. 153, 40173 Bandung, Ind...   \n",
              "1      Jl. Ir H Juanda 390, 40135 Bandung, Indonesia   \n",
              "2  Jalan Lemahnendeut No 9, Sukajadi, 40164 Bandu...   \n",
              "3  Jl. Malabar No.2, Malabar, Lengkong, Dago, Asi...   \n",
              "4  JI. Dangeur Indah II No. 15, Sukagalih, Sukaja...   \n",
              "\n",
              "                                         description  \n",
              "0  A 10-minute drive from Bandung Airport, Topas ...  \n",
              "1  Sheraton Hotel & Towers offers 5-star accommod...  \n",
              "2  Conveniently located in Sukajadi, Bandung, OYO...  \n",
              "3  Featuring a shared lounge, OYO 226 LJ hotel is...  \n",
              "4  Attractively set in the Sukajadi district of B...  "
            ]
          },
          "execution_count": 2,
          "metadata": {},
          "output_type": "execute_result"
        }
      ],
      "source": [
        "import pandas as pd\n",
        "import numpy as np\n",
        "from sklearn.metrics.pairwise import cosine_similarity\n",
        "from sklearn.feature_extraction.text import TfidfVectorizer\n",
        "from nltk.corpus import stopwords\n",
        "import re\n",
        "import random\n",
        "\n",
        "df = pd.read_csv(\"hotel_bandung_english.csv\")\n",
        "df.head()"
      ]
    },
    {
      "cell_type": "code",
      "execution_count": 3,
      "metadata": {
        "colab": {
          "base_uri": "https://localhost:8080/"
        },
        "id": "k3kO-wbfsLXz",
        "outputId": "87f0b3be-da3c-496b-cf8c-655dd8f0e413"
      },
      "outputs": [
        {
          "name": "stdout",
          "output_type": "stream",
          "text": [
            "<class 'pandas.core.frame.DataFrame'>\n",
            "RangeIndex: 105 entries, 0 to 104\n",
            "Data columns (total 3 columns):\n",
            " #   Column       Non-Null Count  Dtype \n",
            "---  ------       --------------  ----- \n",
            " 0   name         105 non-null    object\n",
            " 1   address      105 non-null    object\n",
            " 2   description  105 non-null    object\n",
            "dtypes: object(3)\n",
            "memory usage: 2.6+ KB\n"
          ]
        }
      ],
      "source": [
        "df.describe()\n",
        "df.info()"
      ]
    },
    {
      "cell_type": "code",
      "execution_count": 5,
      "metadata": {
        "id": "ny6Epj41sOl_"
      },
      "outputs": [],
      "source": [
        "def print_description(index):\n",
        "    example = df[df.index == index][['description', 'name', 'address']].values[0]\n",
        "    if len(example) > 0:\n",
        "        print(example[0])\n",
        "        print('Nama:', example[1])\n",
        "        print('Alamat:', example[2])"
      ]
    },
    {
      "cell_type": "code",
      "execution_count": 6,
      "metadata": {
        "colab": {
          "base_uri": "https://localhost:8080/"
        },
        "id": "aEF6v7TasUFl",
        "outputId": "86b550b5-3cfe-4996-cef8-3a7e70481c70"
      },
      "outputs": [
        {
          "name": "stdout",
          "output_type": "stream",
          "text": [
            "Sheraton Hotel & Towers offers 5-star accommodation in the middle of a green landscape in Bandung. All spacious rooms come with a flat-screen cable TV. The hotel offers an outdoor pool, spa center and restaurant with mountain views. Wi-Fi access is available free in all areas of the hotel. Elegant rooms have modern interiors, light wood furnishings and large windows. Each provides a comfortable seating area, DVD player and private bathroom with shower. You can work out in the gym or enjoy body treatments at the spa. Reception staff are ready to serve your needs for 24 hours. International and Asian dishes are offered at Feast Restaurant, while soft drinks are served at Samsara Lounge. A variety of cocktails and snacks are also available at Poolside Terrace. Sheraton Bandung Hotel & Towers is a 10-minute drive from Juanda Culture Park and Dago area, where various factory outlets are located. Husein Sastranegara Airport is a 30-minute drive away.\n",
            "Nama: Sheraton Bandung Hotel & Towers\n",
            "Alamat: Jl. Ir H Juanda 390, 40135 Bandung, Indonesia\n"
          ]
        }
      ],
      "source": [
        "print_description(1)"
      ]
    },
    {
      "cell_type": "code",
      "execution_count": 7,
      "metadata": {
        "colab": {
          "base_uri": "https://localhost:8080/"
        },
        "id": "OhBws9ZusYsP",
        "outputId": "343e60a7-e887-44d4-e6f1-d671fd84c013"
      },
      "outputs": [
        {
          "name": "stdout",
          "output_type": "stream",
          "text": [
            "Featuring an outdoor pool and a restaurant, House-Sangkuriang is conveniently located just a 5-minute walk from Dago’s factory outlets. It has a 24-hour front desk and provides free Wi-Fi access in all areas. Elegant and warmly lit, the air-conditioned rooms in House-Sangkuriang include hardwood floors. A flat-screen satellite TV, an electric kettle and a free one-time minibar are among the in-room comforts, and a shower, slippers and a hairdryer are included in the private bathrooms. The hotel also serves daily afternoon tea in the lobby and on the pool terrace. Cihampelas Walk Mall is a 10-minute drive from the property, and Husein Sastranegara Airport is a 20-minute drive away. Airport transportation can be arranged upon request. The staff at the front desk can assist with valet parking and luggage storage. Housing a business center, the hotel also provides laundry service for a fee. International dishes are served at Dining Room. Guests can also dine in the comfort of their rooms.\n",
            "Nama: House Sangkuriang\n",
            "Alamat: Jl. Sangkuriang no.1 Dago, Kecamatan Coblong, 40135 Bandung, Indonesia\n"
          ]
        }
      ],
      "source": [
        "print_description(50)"
      ]
    },
    {
      "cell_type": "code",
      "execution_count": 9,
      "metadata": {
        "colab": {
          "base_uri": "https://localhost:8080/"
        },
        "id": "lBjwsSt9sbqi",
        "outputId": "18747d5c-f9f6-4b5c-e2fd-d000899f2dcd"
      },
      "outputs": [
        {
          "name": "stderr",
          "output_type": "stream",
          "text": [
            "[nltk_data] Downloading package stopwords to /root/nltk_data...\n",
            "[nltk_data]   Unzipping corpora/stopwords.zip.\n"
          ]
        }
      ],
      "source": [
        "import nltk\n",
        "nltk.download('stopwords')\n",
        "clean_spcl = re.compile('[/(){}\\[\\]\\|@,;]')\n",
        "clean_symbol = re.compile('[^0-9a-z #+_]')\n",
        "stopworda = set(stopwords.words('english'))\n",
        "\n",
        "def clean_text(text):\n",
        "    text = text.lower() # lowercase text\n",
        "    text = clean_spcl.sub(' ', text)\n",
        "    text = clean_symbol.sub('', text)\n",
        "    text = ' '.join(word for word in text.split() if word not in stopworda) # hapus stopword dari kolom deskripsi\n",
        "    return text\n",
        "\n",
        "# Buat kolom tambahan untuk data description yang telah dibersihkan\n",
        "df['desc_clean'] = df['description'].apply(clean_text)"
      ]
    },
    {
      "cell_type": "code",
      "execution_count": 10,
      "metadata": {
        "id": "WrFLQs01s1nL"
      },
      "outputs": [],
      "source": [
        "# Deskripsi kedua (Setelah preprocessing)\n",
        "def print_description_clean(index):\n",
        "    example = df[df.index == index][['desc_clean', 'name', 'address']].values[0]\n",
        "    if len(example) > 0:\n",
        "        print(example[0])\n",
        "        print('Nama:', example[1])\n",
        "        print('Alamat:', example[2])"
      ]
    },
    {
      "cell_type": "code",
      "execution_count": 11,
      "metadata": {
        "colab": {
          "base_uri": "https://localhost:8080/"
        },
        "id": "LVEe09fCs425",
        "outputId": "2b3fd154-bd43-4a86-f7a8-5aeaa1f7c77d"
      },
      "outputs": [
        {
          "name": "stdout",
          "output_type": "stream",
          "text": [
            "sheraton hotel towers offers 5star accommodation middle green landscape bandungall spacious rooms come flatscreen cable tvthe hotel offers outdoor pool spa center restaurant mountain viewswifi access available free areas hotelelegant rooms modern interiors light wood furnishings large windowseach provides comfortable seating area dvd player private bathroom showeryou work gym enjoy body treatments spareception staff ready serve needs 24 hoursinternational asian dishes offered feast restaurant soft drinks served samsara loungea variety cocktails snacks also available poolside terracesheraton bandung hotel towers 10minute drive juanda culture park dago area various factory outlets locatedhusein sastranegara airport 30minute drive away\n",
            "Nama: Sheraton Bandung Hotel & Towers\n",
            "Alamat: Jl. Ir H Juanda 390, 40135 Bandung, Indonesia\n"
          ]
        }
      ],
      "source": [
        "print_description_clean(1)"
      ]
    },
    {
      "cell_type": "code",
      "execution_count": 12,
      "metadata": {
        "colab": {
          "base_uri": "https://localhost:8080/"
        },
        "id": "OeFnQDEAs8Ks",
        "outputId": "3aa69cd6-bd2b-4ae6-e851-992001fe346d"
      },
      "outputs": [
        {
          "name": "stdout",
          "output_type": "stream",
          "text": [
            "featuring outdoor pool restaurant housesangkuriang conveniently located 5minute walk dagos factory outlets 24hour front desk provides free wifi access areas elegant warmly lit airconditioned rooms housesangkuriang include hardwood floors flatscreen satellite tv electric kettle free onetime minibar among inroom comforts shower slippers hairdryer included private bathrooms hotel also serves daily afternoon tea lobby pool terrace cihampelas walk mall 10minute drive property husein sastranegara airport 20minute drive away airport transportation arranged upon request staff front desk assist valet parking luggage storage housing business center hotel also provides laundry service fee international dishes served dining room guests also dine comfort rooms\n",
            "Nama: House Sangkuriang\n",
            "Alamat: Jl. Sangkuriang no.1 Dago, Kecamatan Coblong, 40135 Bandung, Indonesia\n"
          ]
        }
      ],
      "source": [
        "print_description_clean(50)"
      ]
    },
    {
      "cell_type": "code",
      "execution_count": 13,
      "metadata": {
        "colab": {
          "base_uri": "https://localhost:8080/"
        },
        "id": "Gu2Cr4l_s_G-",
        "outputId": "bbad27df-32d2-4dc8-9003-df1328cba0ea"
      },
      "outputs": [
        {
          "data": {
            "text/plain": [
              "array([[1.        , 0.02250818, 0.01254879, ..., 0.01044102, 0.04017144,\n",
              "        0.03531754],\n",
              "       [0.02250818, 1.        , 0.01040992, ..., 0.01269843, 0.02856891,\n",
              "        0.01847406],\n",
              "       [0.01254879, 0.01040992, 1.        , ..., 0.12575247, 0.01082423,\n",
              "        0.02511644],\n",
              "       ...,\n",
              "       [0.01044102, 0.01269843, 0.12575247, ..., 1.        , 0.01065003,\n",
              "        0.02392556],\n",
              "       [0.04017144, 0.02856891, 0.01082423, ..., 0.01065003, 1.        ,\n",
              "        0.03826221],\n",
              "       [0.03531754, 0.01847406, 0.02511644, ..., 0.02392556, 0.03826221,\n",
              "        1.        ]])"
            ]
          },
          "execution_count": 13,
          "metadata": {},
          "output_type": "execute_result"
        }
      ],
      "source": [
        "df.set_index('name', inplace=True)\n",
        "tf = TfidfVectorizer(analyzer='word', ngram_range=(1, 3), min_df=0, stop_words='english')\n",
        "tfidf_matrix = tf.fit_transform(df['desc_clean'])\n",
        "cos_sim = cosine_similarity(tfidf_matrix, tfidf_matrix)\n",
        "cos_sim"
      ]
    },
    {
      "cell_type": "code",
      "execution_count": 14,
      "metadata": {
        "colab": {
          "base_uri": "https://localhost:8080/"
        },
        "id": "8atLsbT0tDEx",
        "outputId": "1834dc3e-c278-4b2f-9a78-f292ac13c73a"
      },
      "outputs": [
        {
          "data": {
            "text/plain": [
              "0                Capital O 253 Topas Galeria Hotel\n",
              "1                  Sheraton Bandung Hotel & Towers\n",
              "2                   OYO 794 Ln 9 Bandung Residence\n",
              "3                                 OYO 226 LJ hotel\n",
              "4                          OYO 230 Maleo Residence\n",
              "5                        OYO 167 Dago's Hill Hotel\n",
              "6                   OYO 794 Ln 9 Bandung Residence\n",
              "7                       OYO 196 Horizone Residence\n",
              "8     OYO 483 Flagship Tamansari Panoramic Bandung\n",
              "9               OYO 295 Grha Ciumbuleuit Residence\n",
              "10                            OYO 193 SM Residence\n",
              "11              Capital O 874 Hotel Nyland Pasteur\n",
              "12                            OYO 352 Sabang Hotel\n",
              "13                                  Hilton Bandung\n",
              "14             InterContinental Bandung Dago Pakar\n",
              "15                                Aryaduta Bandung\n",
              "16               Art Deco Luxury Hotel & Residence\n",
              "17                            Crowne Plaza Bandung\n",
              "18          Best Western Premier La Grande Bandung\n",
              "19                         éL Royale Hotel Bandung\n",
              "20              Courtyard by Marriott Bandung Dago\n",
              "21                 Four Points by Sheraton Bandung\n",
              "22                     Mercure Bandung City Center\n",
              "23                   Swiss-Belresort Dago Heritage\n",
              "24                            OYO 228 Hotel Lodaya\n",
              "25                    Prama Grand Preanger Bandung\n",
              "26                                        P Hostel\n",
              "27                  The Trans Luxury Hotel Bandung\n",
              "28                            Grand Tjokro Bandung\n",
              "29                 Grand Mercure Bandung Setiabudi\n",
              "30                   Aston Tropicana Hotel Bandung\n",
              "31                     De Paviljoen Bandung by HIM\n",
              "32                             Sensa Hotel Bandung\n",
              "33                       Ibis Bandung Trans Studio\n",
              "34                                   Aston Pasteur\n",
              "35                              The Luxton Bandung\n",
              "36                     Holiday Inn Bandung Pasteur\n",
              "37                              Savoy Homann Hotel\n",
              "38       The Jayakarta Suites Bandung, Hotel & Spa\n",
              "39                    Arion Swiss-Belhotel Bandung\n",
              "40                                    MOXY Bandung\n",
              "41                       Ibis Styles Bandung Braga\n",
              "42                    Favehotel Premier Cihampelas\n",
              "43                           De JAVA Hotel Bandung\n",
              "44                               El Cavana Bandung\n",
              "45                 Ibis Budget Bandung Asia Africa\n",
              "46                            Ibis Bandung Pasteur\n",
              "47                                 Favehotel Braga\n",
              "48                             Ivory Hotel Bandung\n",
              "49                                  The Papandayan\n",
              "Name: name, dtype: object"
            ]
          },
          "execution_count": 14,
          "metadata": {},
          "output_type": "execute_result"
        }
      ],
      "source": [
        "# Set index utama di kolom 'name'\n",
        "indices = pd.Series(df.index)\n",
        "indices[:50]"
      ]
    },
    {
      "cell_type": "code",
      "execution_count": 15,
      "metadata": {
        "id": "dYxnqFbwtGr4"
      },
      "outputs": [],
      "source": [
        "def recommendations(name, cos_sim = cos_sim):\n",
        "\n",
        "    recommended_hotel = []\n",
        "\n",
        "    # Mengambil nama hotel berdasarkan variabel indicies\n",
        "    idx = indices[indices == name].index[0]\n",
        "\n",
        "    # Membuat series berdasarkan skor kesamaan\n",
        "    score_series = pd.Series(cos_sim[idx]).sort_values(ascending = False)\n",
        "\n",
        "    # mengambil index dan dibuat 10 baris rekomendasi terbaik\n",
        "    top_10_indexes = list(score_series.iloc[1:11].index)\n",
        "\n",
        "    for i in top_10_indexes:\n",
        "        recommended_hotel.append(list(df.index)[i])\n",
        "\n",
        "    return recommended_hotel"
      ]
    },
    {
      "cell_type": "code",
      "execution_count": 16,
      "metadata": {
        "colab": {
          "base_uri": "https://localhost:8080/"
        },
        "id": "Egi4pgV0tOT6",
        "outputId": "af7000a3-9357-4917-d9cc-11399f5b62ab"
      },
      "outputs": [
        {
          "data": {
            "text/plain": [
              "['FOX Lite Hotel Metro Indah Bandung',\n",
              " 'InterContinental Bandung Dago Pakar',\n",
              " 'Zest Sukajadi Hotel Bandung',\n",
              " 'M Premiere Hotel Dago Bandung',\n",
              " 'Ibis Bandung Pasteur',\n",
              " 'Serela Cihampelas Hotel',\n",
              " 'Grand Cordela Hotel Bandung ',\n",
              " 'Favehotel Hyper Square',\n",
              " 'HARRIS Hotel & Conventions Ciumbuleuit - Bandung',\n",
              " 'Hemangini Hotel Bandung']"
            ]
          },
          "execution_count": 16,
          "metadata": {},
          "output_type": "execute_result"
        }
      ],
      "source": [
        "recommendations('Benua Hotel')"
      ]
    },
    {
      "cell_type": "code",
      "execution_count": 17,
      "metadata": {
        "colab": {
          "base_uri": "https://localhost:8080/"
        },
        "id": "1pDh2QYltRoq",
        "outputId": "3ea9fdc3-5b01-48e0-e4ea-b7cd2846f4b1"
      },
      "outputs": [
        {
          "data": {
            "text/plain": [
              "['Vio Cihampelas',\n",
              " 'Grand Sovia Hotel',\n",
              " 'Neo Dipatiukur Bandung',\n",
              " 'Grand Tjokro Bandung',\n",
              " 'HARRIS Hotel & Conventions Ciumbuleuit - Bandung',\n",
              " 'InterContinental Bandung Dago Pakar',\n",
              " 'Ibis Bandung Pasteur',\n",
              " 'Tebu Hotel Bandung',\n",
              " 'Aryaduta Bandung',\n",
              " 'Benua Hotel']"
            ]
          },
          "execution_count": 17,
          "metadata": {},
          "output_type": "execute_result"
        }
      ],
      "source": [
        "recommendations(\"Serela Cihampelas Hotel\")"
      ]
    }
  ],
  "metadata": {
    "colab": {
      "provenance": []
    },
    "kernelspec": {
      "display_name": "Python 3",
      "name": "python3"
    },
    "language_info": {
      "name": "python"
    }
  },
  "nbformat": 4,
  "nbformat_minor": 0
}
